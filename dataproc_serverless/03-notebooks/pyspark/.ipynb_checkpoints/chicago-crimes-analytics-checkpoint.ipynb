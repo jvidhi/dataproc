{
 "cells": [
  {
   "cell_type": "markdown",
   "id": "8207e923-2b0e-4c77-8af9-42e121e9aa17",
   "metadata": {},
   "source": [
    "# Chicago Crimes Analysis"
   ]
  },
  {
   "cell_type": "markdown",
   "id": "70c89537-28a8-41b6-9941-41dc2a8122ea",
   "metadata": {},
   "source": [
    "### 1) Create a Spark sesssion"
   ]
  },
  {
   "cell_type": "code",
   "execution_count": null,
   "id": "bc60ab9a-cd91-439c-ba6e-3223e2abc1b2",
   "metadata": {},
   "outputs": [],
   "source": [
    "from pyspark.sql import SparkSession\n",
    "\n",
    "spark = SparkSession.builder \\\n",
    "  .appName(\"Chicago Crimes Analysis\")\\\n",
    "  .enableHiveSupport()\\\n",
    "  .getOrCreate()"
   ]
  },
  {
   "cell_type": "code",
   "execution_count": 1,
   "id": "c22a46d3-1df4-456d-be91-29de1922d795",
   "metadata": {
    "tags": []
   },
   "outputs": [
    {
     "data": {
      "text/html": [
       "\n",
       "            <div>\n",
       "                <p><b>SparkSession - hive</b></p>\n",
       "                \n",
       "        <div>\n",
       "            <p><b>SparkContext</b></p>\n",
       "\n",
       "            <p><a href=\"http://gdpic-srvls-session-dd814230-4741-43f7-9bee-8748705bd6db-m.us-central1-c.c.vertex-ai-382806.internal:4040\">Spark UI</a></p>\n",
       "\n",
       "            <dl>\n",
       "              <dt>Version</dt>\n",
       "                <dd><code>v3.5.1</code></dd>\n",
       "              <dt>Master</dt>\n",
       "                <dd><code>spark://gdpic-srvls-session-dd814230-4741-43f7-9bee-8748705bd6db-m:7077</code></dd>\n",
       "              <dt>AppName</dt>\n",
       "                <dd><code>PySparkShell</code></dd>\n",
       "            </dl>\n",
       "        </div>\n",
       "        \n",
       "            </div>\n",
       "        "
      ],
      "text/plain": [
       "<pyspark.sql.session.SparkSession at 0x7fdd37d7fb60>"
      ]
     },
     "execution_count": 1,
     "metadata": {},
     "output_type": "execute_result"
    }
   ],
   "source": [
    "spark"
   ]
  },
  {
   "cell_type": "markdown",
   "id": "09e1031e-ab0f-46b5-80d4-e3801e30b361",
   "metadata": {},
   "source": [
    "### 2) Load data from a public dataset into a dataframe"
   ]
  },
  {
   "cell_type": "code",
   "execution_count": 2,
   "id": "189a4327-f028-4e29-8531-7de006a0f12b",
   "metadata": {
    "tags": []
   },
   "outputs": [],
   "source": [
    "# Read data from BigQuery\n",
    "baseDF = spark.read \\\n",
    "  .format('bigquery') \\\n",
    "  .load('bigquery-public-data.chicago_crime.crime')"
   ]
  },
  {
   "cell_type": "code",
   "execution_count": 3,
   "id": "18e99943-bdd9-4cd5-9dc7-322a75f8e890",
   "metadata": {
    "tags": []
   },
   "outputs": [
    {
     "name": "stdout",
     "output_type": "stream",
     "text": [
      "root\n",
      " |-- unique_key: long (nullable = false)\n",
      " |-- case_number: string (nullable = true)\n",
      " |-- date: timestamp (nullable = true)\n",
      " |-- block: string (nullable = true)\n",
      " |-- iucr: string (nullable = true)\n",
      " |-- primary_type: string (nullable = true)\n",
      " |-- description: string (nullable = true)\n",
      " |-- location_description: string (nullable = true)\n",
      " |-- arrest: boolean (nullable = true)\n",
      " |-- domestic: boolean (nullable = true)\n",
      " |-- beat: long (nullable = true)\n",
      " |-- district: long (nullable = true)\n",
      " |-- ward: long (nullable = true)\n",
      " |-- community_area: long (nullable = true)\n",
      " |-- fbi_code: string (nullable = true)\n",
      " |-- x_coordinate: double (nullable = true)\n",
      " |-- y_coordinate: double (nullable = true)\n",
      " |-- year: long (nullable = true)\n",
      " |-- updated_on: timestamp (nullable = true)\n",
      " |-- latitude: double (nullable = true)\n",
      " |-- longitude: double (nullable = true)\n",
      " |-- location: string (nullable = true)\n",
      "\n"
     ]
    }
   ],
   "source": [
    "# Print schema\n",
    "baseDF.printSchema()"
   ]
  },
  {
   "cell_type": "code",
   "execution_count": 4,
   "id": "59e0224c-44ad-4345-a3ce-4ef98460f11f",
   "metadata": {
    "tags": []
   },
   "outputs": [
    {
     "name": "stderr",
     "output_type": "stream",
     "text": [
      "                                                                                \r"
     ]
    },
    {
     "name": "stdout",
     "output_type": "stream",
     "text": [
      "+----------+-----------+-------------------+----------------+----+-------------------+------------------------------+--------------------+------+--------+----+--------+----+--------------+--------+------------+------------+----+-------------------+------------+-------------+-----------------------------+\n",
      "|unique_key|case_number|date               |block           |iucr|primary_type       |description                   |location_description|arrest|domestic|beat|district|ward|community_area|fbi_code|x_coordinate|y_coordinate|year|updated_on         |latitude    |longitude    |location                     |\n",
      "+----------+-----------+-------------------+----------------+----+-------------------+------------------------------+--------------------+------+--------+----+--------+----+--------------+--------+------------+------------+----+-------------------+------------+-------------+-----------------------------+\n",
      "|8403453   |HT636387   |2011-12-16 07:10:00|002XX S CANAL ST|0265|CRIM SEXUAL ASSAULT|AGGRAVATED: OTHER             |OTHER               |false |false   |111 |1       |2   |28            |02      |1173177.0   |1899236.0   |2011|2016-02-04 06:33:39|41.878931004|-87.639585621|(41.878931004, -87.639585621)|\n",
      "|4095000   |HL430465   |2005-06-19 10:30:00|001XX N CANAL ST|0281|CRIM SEXUAL ASSAULT|NON-AGGRAVATED                |RESIDENCE           |true  |false   |111 |1       |42  |28            |02      |1173097.0   |1901452.0   |2005|2018-02-10 03:50:01|41.885013623|-87.63981361 |(41.885013623, -87.63981361) |\n",
      "|5389459   |HN235859   |2007-03-19 08:50:55|005XX W LAKE ST |0312|ROBBERY            |ARMED:KNIFE/CUTTING INSTRUMENT|GROCERY FOOD STORE  |true  |false   |111 |1       |42  |28            |03      |1172491.0   |1901698.0   |2007|2018-02-28 03:56:25|41.885702079|-87.642031644|(41.885702079, -87.642031644)|\n",
      "+----------+-----------+-------------------+----------------+----+-------------------+------------------------------+--------------------+------+--------+----+--------+----+--------------+--------+------------+------------+----+-------------------+------------+-------------+-----------------------------+\n",
      "only showing top 3 rows\n",
      "\n"
     ]
    },
    {
     "data": {
      "text/plain": [
       "None"
      ]
     },
     "metadata": {},
     "output_type": "display_data"
    }
   ],
   "source": [
    "display(baseDF.show(3,truncate=False))"
   ]
  },
  {
   "cell_type": "code",
   "execution_count": 6,
   "id": "c410e896-7d95-4c5c-addc-3f9098e2211f",
   "metadata": {
    "tags": []
   },
   "outputs": [],
   "source": [
    "baseDF.createOrReplaceTempView(\"chicago_crimes_raw\")"
   ]
  },
  {
   "cell_type": "markdown",
   "id": "7891bee0-848b-4e72-80d4-b5ea9066dd6d",
   "metadata": {},
   "source": [
    "### 3) Transform the dataset"
   ]
  },
  {
   "cell_type": "markdown",
   "id": "c951c66f-6957-4066-b35f-c1052e4b9180",
   "metadata": {},
   "source": [
    "#### 3.1. Deduplicate"
   ]
  },
  {
   "cell_type": "code",
   "execution_count": 7,
   "id": "590cfb9a-b9c8-4a2d-8fa2-4a4bb071c916",
   "metadata": {
    "tags": []
   },
   "outputs": [],
   "source": [
    "# 3.1.a. Read raw crimes into a dataframe\n",
    "rawDF=spark.sql(\"select * from chicago_crimes_raw\")"
   ]
  },
  {
   "cell_type": "code",
   "execution_count": 8,
   "id": "38699e7e-f7f2-45f7-b479-db5df6f20359",
   "metadata": {
    "tags": []
   },
   "outputs": [],
   "source": [
    "# 3.1.b. Dedupe the data\n",
    "dedupedRawDF=rawDF.dropDuplicates()"
   ]
  },
  {
   "cell_type": "code",
   "execution_count": 9,
   "id": "af3e7755-86b8-4e12-a8c1-811296cf702d",
   "metadata": {
    "tags": []
   },
   "outputs": [
    {
     "name": "stdout",
     "output_type": "stream",
     "text": [
      "root\n",
      " |-- unique_key: long (nullable = false)\n",
      " |-- case_number: string (nullable = true)\n",
      " |-- date: timestamp (nullable = true)\n",
      " |-- block: string (nullable = true)\n",
      " |-- iucr: string (nullable = true)\n",
      " |-- primary_type: string (nullable = true)\n",
      " |-- description: string (nullable = true)\n",
      " |-- location_description: string (nullable = true)\n",
      " |-- arrest: boolean (nullable = true)\n",
      " |-- domestic: boolean (nullable = true)\n",
      " |-- beat: long (nullable = true)\n",
      " |-- district: long (nullable = true)\n",
      " |-- ward: long (nullable = true)\n",
      " |-- community_area: long (nullable = true)\n",
      " |-- fbi_code: string (nullable = true)\n",
      " |-- x_coordinate: double (nullable = true)\n",
      " |-- y_coordinate: double (nullable = true)\n",
      " |-- year: long (nullable = true)\n",
      " |-- updated_on: timestamp (nullable = true)\n",
      " |-- latitude: double (nullable = true)\n",
      " |-- longitude: double (nullable = true)\n",
      " |-- location: string (nullable = true)\n",
      "\n"
     ]
    }
   ],
   "source": [
    "dedupedRawDF.printSchema()"
   ]
  },
  {
   "cell_type": "markdown",
   "id": "87358ac5-2d18-4c8f-8c44-7d2391d48d44",
   "metadata": {},
   "source": [
    "#### 3.2. Augment the data with temporal attributes"
   ]
  },
  {
   "cell_type": "code",
   "execution_count": 10,
   "id": "d98a3a4b-5a93-485a-8e42-afe2d7fcaf7e",
   "metadata": {
    "tags": []
   },
   "outputs": [],
   "source": [
    "# 3.2.a. Create a UDF to return day of the week\n",
    "from pyspark.sql.types import *\n",
    "from pyspark.sql.functions import *\n",
    "\n",
    "def getDayNameFromWeekdayNbr(weekday):\n",
    "    if weekday == 0:\n",
    "        return \"Monday\"\n",
    "    if weekday == 1:\n",
    "        return \"Tuesday\"\n",
    "    if weekday == 2:\n",
    "        return \"Wednesday\"\n",
    "    if weekday == 3:\n",
    "        return \"Thursday\"\n",
    "    if weekday == 4:\n",
    "        return \"Friday\"\n",
    "    if weekday == 5:\n",
    "        return \"Saturday\"\n",
    "    if weekday == 6:\n",
    "        return \"Sunday\"\n",
    "\n",
    "udf_getDayNameFromWeekdayNbr = udf(getDayNameFromWeekdayNbr, StringType())"
   ]
  },
  {
   "cell_type": "code",
   "execution_count": 11,
   "id": "43cc6a4a-6465-4d7f-b34f-04fa90599dce",
   "metadata": {
    "tags": []
   },
   "outputs": [],
   "source": [
    "# 3.2.b. Add a column case_timestamp with case_dt_tm formatted to timestamp and create a temporary view on this\n",
    "augmentedDF=spark.sql(\"select * from chicago_crimes_raw\").withColumn(\"case_timestamp\",to_timestamp(\"date\",\"MM/dd/yyyy hh:mm:ss\"))"
   ]
  },
  {
   "cell_type": "code",
   "execution_count": 12,
   "id": "3578b26e-6c57-4219-a09e-40cd8bc9109b",
   "metadata": {
    "tags": []
   },
   "outputs": [],
   "source": [
    "augmentedDF.createOrReplaceTempView(\"crimes_raw_temp_with_timestamp\")"
   ]
  },
  {
   "cell_type": "code",
   "execution_count": 13,
   "id": "7814d94d-4375-42a5-935d-5ee4391ee586",
   "metadata": {
    "tags": []
   },
   "outputs": [
    {
     "name": "stdout",
     "output_type": "stream",
     "text": [
      "+----------+-----------+-------------------+----------------+----+-------------------+-----------------+--------------------+------+--------+----+--------+----+--------------+--------+------------+------------+----+-------------------+------------+-------------+--------------------+-------------------+\n",
      "|unique_key|case_number|               date|           block|iucr|       primary_type|      description|location_description|arrest|domestic|beat|district|ward|community_area|fbi_code|x_coordinate|y_coordinate|year|         updated_on|    latitude|    longitude|            location|     case_timestamp|\n",
      "+----------+-----------+-------------------+----------------+----+-------------------+-----------------+--------------------+------+--------+----+--------+----+--------------+--------+------------+------------+----+-------------------+------------+-------------+--------------------+-------------------+\n",
      "|   8403453|   HT636387|2011-12-16 07:10:00|002XX S CANAL ST|0265|CRIM SEXUAL ASSAULT|AGGRAVATED: OTHER|               OTHER| false|   false| 111|       1|   2|            28|      02|   1173177.0|   1899236.0|2011|2016-02-04 06:33:39|41.878931004|-87.639585621|(41.878931004, -8...|2011-12-16 07:10:00|\n",
      "|   4095000|   HL430465|2005-06-19 10:30:00|001XX N CANAL ST|0281|CRIM SEXUAL ASSAULT|   NON-AGGRAVATED|           RESIDENCE|  true|   false| 111|       1|  42|            28|      02|   1173097.0|   1901452.0|2005|2018-02-10 03:50:01|41.885013623| -87.63981361|(41.885013623, -8...|2005-06-19 10:30:00|\n",
      "+----------+-----------+-------------------+----------------+----+-------------------+-----------------+--------------------+------+--------+----+--------+----+--------------+--------+------------+------------+----+-------------------+------------+-------------+--------------------+-------------------+\n",
      "only showing top 2 rows\n",
      "\n"
     ]
    }
   ],
   "source": [
    "augmentedDF.show(2)"
   ]
  },
  {
   "cell_type": "code",
   "execution_count": 14,
   "id": "184db457-b497-4ef7-8754-d902e2efe4da",
   "metadata": {
    "tags": []
   },
   "outputs": [
    {
     "name": "stdout",
     "output_type": "stream",
     "text": [
      "root\n",
      " |-- unique_key: long (nullable = false)\n",
      " |-- case_number: string (nullable = true)\n",
      " |-- date: timestamp (nullable = true)\n",
      " |-- block: string (nullable = true)\n",
      " |-- iucr: string (nullable = true)\n",
      " |-- primary_type: string (nullable = true)\n",
      " |-- description: string (nullable = true)\n",
      " |-- location_description: string (nullable = true)\n",
      " |-- arrest: boolean (nullable = true)\n",
      " |-- domestic: boolean (nullable = true)\n",
      " |-- beat: long (nullable = true)\n",
      " |-- district: long (nullable = true)\n",
      " |-- ward: long (nullable = true)\n",
      " |-- community_area: long (nullable = true)\n",
      " |-- fbi_code: string (nullable = true)\n",
      " |-- x_coordinate: double (nullable = true)\n",
      " |-- y_coordinate: double (nullable = true)\n",
      " |-- year: long (nullable = true)\n",
      " |-- updated_on: timestamp (nullable = true)\n",
      " |-- latitude: double (nullable = true)\n",
      " |-- longitude: double (nullable = true)\n",
      " |-- location: string (nullable = true)\n",
      " |-- case_timestamp: timestamp (nullable = true)\n",
      "\n"
     ]
    }
   ],
   "source": [
    "augmentedDF.printSchema()"
   ]
  },
  {
   "cell_type": "code",
   "execution_count": 15,
   "id": "8d7242d9-b7ff-4a85-a610-9d74742d5092",
   "metadata": {
    "tags": []
   },
   "outputs": [],
   "source": [
    "# 3.2.c. Add some temporal attributes using Spark date features\n",
    "curatedInitialDF = spark.sql(\"select *, month(case_timestamp) as case_month,dayofmonth(case_timestamp) as case_day_of_month, hour(case_timestamp) as case_hour, dayofweek(case_timestamp) as case_day_of_week_nbr from crimes_raw_temp_with_timestamp\")"
   ]
  },
  {
   "cell_type": "code",
   "execution_count": 16,
   "id": "0d8dbe3b-d91b-449b-bcc4-a23610f04900",
   "metadata": {
    "tags": []
   },
   "outputs": [
    {
     "name": "stderr",
     "output_type": "stream",
     "text": [
      "24/05/28 13:57:12 WARN SparkStringUtils: Truncated the string representation of a plan since it was too large. This behavior can be adjusted by setting 'spark.sql.debug.maxToStringFields'.\n"
     ]
    },
    {
     "name": "stdout",
     "output_type": "stream",
     "text": [
      "+----------+-----------+-------------------+----------------+----+-------------------+-----------------+--------------------+------+--------+----+--------+----+--------------+--------+------------+------------+----+-------------------+------------+-------------+--------------------+-------------------+----------+-----------------+---------+--------------------+\n",
      "|unique_key|case_number|               date|           block|iucr|       primary_type|      description|location_description|arrest|domestic|beat|district|ward|community_area|fbi_code|x_coordinate|y_coordinate|year|         updated_on|    latitude|    longitude|            location|     case_timestamp|case_month|case_day_of_month|case_hour|case_day_of_week_nbr|\n",
      "+----------+-----------+-------------------+----------------+----+-------------------+-----------------+--------------------+------+--------+----+--------+----+--------------+--------+------------+------------+----+-------------------+------------+-------------+--------------------+-------------------+----------+-----------------+---------+--------------------+\n",
      "|   8403453|   HT636387|2011-12-16 07:10:00|002XX S CANAL ST|0265|CRIM SEXUAL ASSAULT|AGGRAVATED: OTHER|               OTHER| false|   false| 111|       1|   2|            28|      02|   1173177.0|   1899236.0|2011|2016-02-04 06:33:39|41.878931004|-87.639585621|(41.878931004, -8...|2011-12-16 07:10:00|        12|               16|        7|                   6|\n",
      "|   4095000|   HL430465|2005-06-19 10:30:00|001XX N CANAL ST|0281|CRIM SEXUAL ASSAULT|   NON-AGGRAVATED|           RESIDENCE|  true|   false| 111|       1|  42|            28|      02|   1173097.0|   1901452.0|2005|2018-02-10 03:50:01|41.885013623| -87.63981361|(41.885013623, -8...|2005-06-19 10:30:00|         6|               19|       10|                   1|\n",
      "+----------+-----------+-------------------+----------------+----+-------------------+-----------------+--------------------+------+--------+----+--------+----+--------------+--------+------------+------------+----+-------------------+------------+-------------+--------------------+-------------------+----------+-----------------+---------+--------------------+\n",
      "only showing top 2 rows\n",
      "\n"
     ]
    }
   ],
   "source": [
    "curatedInitialDF.show(2)"
   ]
  },
  {
   "cell_type": "code",
   "execution_count": 17,
   "id": "99c7234c-3938-4f55-80cb-96ae100386b7",
   "metadata": {
    "tags": []
   },
   "outputs": [],
   "source": [
    "# 3.2.d. Lets use the UDF we created to add the day of the week name\n",
    "curatedDF=curatedInitialDF.withColumn(\"case_day_of_week_name\",udf_getDayNameFromWeekdayNbr(\"case_day_of_week_nbr\"))"
   ]
  },
  {
   "cell_type": "code",
   "execution_count": 18,
   "id": "4fa1972d-a8e8-483a-8627-67838c071b2c",
   "metadata": {
    "tags": []
   },
   "outputs": [
    {
     "name": "stdout",
     "output_type": "stream",
     "text": [
      "root\n",
      " |-- unique_key: long (nullable = false)\n",
      " |-- case_number: string (nullable = true)\n",
      " |-- date: timestamp (nullable = true)\n",
      " |-- block: string (nullable = true)\n",
      " |-- iucr: string (nullable = true)\n",
      " |-- primary_type: string (nullable = true)\n",
      " |-- description: string (nullable = true)\n",
      " |-- location_description: string (nullable = true)\n",
      " |-- arrest: boolean (nullable = true)\n",
      " |-- domestic: boolean (nullable = true)\n",
      " |-- beat: long (nullable = true)\n",
      " |-- district: long (nullable = true)\n",
      " |-- ward: long (nullable = true)\n",
      " |-- community_area: long (nullable = true)\n",
      " |-- fbi_code: string (nullable = true)\n",
      " |-- x_coordinate: double (nullable = true)\n",
      " |-- y_coordinate: double (nullable = true)\n",
      " |-- year: long (nullable = true)\n",
      " |-- updated_on: timestamp (nullable = true)\n",
      " |-- latitude: double (nullable = true)\n",
      " |-- longitude: double (nullable = true)\n",
      " |-- location: string (nullable = true)\n",
      " |-- case_timestamp: timestamp (nullable = true)\n",
      " |-- case_month: integer (nullable = true)\n",
      " |-- case_day_of_month: integer (nullable = true)\n",
      " |-- case_hour: integer (nullable = true)\n",
      " |-- case_day_of_week_nbr: integer (nullable = true)\n",
      " |-- case_day_of_week_name: string (nullable = true)\n",
      "\n"
     ]
    }
   ],
   "source": [
    "curatedDF.printSchema()"
   ]
  },
  {
   "cell_type": "code",
   "execution_count": 20,
   "id": "d5a1bdf9-920f-4e0f-8a50-d37053784ca5",
   "metadata": {
    "tags": []
   },
   "outputs": [
    {
     "name": "stderr",
     "output_type": "stream",
     "text": [
      "[Stage 4:>                                                          (0 + 1) / 1]\r"
     ]
    },
    {
     "name": "stdout",
     "output_type": "stream",
     "text": [
      "+----------+-----------+-------------------+----------------+----+-------------------+-----------------+--------------------+------+--------+----+--------+----+--------------+--------+------------+------------+----+-------------------+------------+-------------+-----------------------------+-------------------+----------+-----------------+---------+--------------------+---------------------+\n",
      "|unique_key|case_number|date               |block           |iucr|primary_type       |description      |location_description|arrest|domestic|beat|district|ward|community_area|fbi_code|x_coordinate|y_coordinate|year|updated_on         |latitude    |longitude    |location                     |case_timestamp     |case_month|case_day_of_month|case_hour|case_day_of_week_nbr|case_day_of_week_name|\n",
      "+----------+-----------+-------------------+----------------+----+-------------------+-----------------+--------------------+------+--------+----+--------+----+--------------+--------+------------+------------+----+-------------------+------------+-------------+-----------------------------+-------------------+----------+-----------------+---------+--------------------+---------------------+\n",
      "|8403453   |HT636387   |2011-12-16 07:10:00|002XX S CANAL ST|0265|CRIM SEXUAL ASSAULT|AGGRAVATED: OTHER|OTHER               |false |false   |111 |1       |2   |28            |02      |1173177.0   |1899236.0   |2011|2016-02-04 06:33:39|41.878931004|-87.639585621|(41.878931004, -87.639585621)|2011-12-16 07:10:00|12        |16               |7        |6                   |Sunday               |\n",
      "|4095000   |HL430465   |2005-06-19 10:30:00|001XX N CANAL ST|0281|CRIM SEXUAL ASSAULT|NON-AGGRAVATED   |RESIDENCE           |true  |false   |111 |1       |42  |28            |02      |1173097.0   |1901452.0   |2005|2018-02-10 03:50:01|41.885013623|-87.63981361 |(41.885013623, -87.63981361) |2005-06-19 10:30:00|6         |19               |10       |1                   |Tuesday              |\n",
      "+----------+-----------+-------------------+----------------+----+-------------------+-----------------+--------------------+------+--------+----+--------+----+--------------+--------+------------+------------+----+-------------------+------------+-------------+-----------------------------+-------------------+----------+-----------------+---------+--------------------+---------------------+\n",
      "only showing top 2 rows\n",
      "\n"
     ]
    },
    {
     "name": "stderr",
     "output_type": "stream",
     "text": [
      "                                                                                \r"
     ]
    }
   ],
   "source": [
    "curatedDF.show(2,truncate=False)"
   ]
  },
  {
   "cell_type": "code",
   "execution_count": 21,
   "id": "a7996ac1-d034-4932-8226-7cbc04f90d83",
   "metadata": {
    "tags": []
   },
   "outputs": [],
   "source": [
    "curatedDF.createOrReplaceTempView(\"chicago_crimes_temp_view\")"
   ]
  },
  {
   "cell_type": "markdown",
   "id": "8f696c4f-9a8f-4ffc-87a3-6caae00e6ef0",
   "metadata": {},
   "source": [
    "### 4) Analyze crimes"
   ]
  },
  {
   "cell_type": "markdown",
   "id": "f6878dfd-ec3e-4bb5-a98b-99480867f855",
   "metadata": {},
   "source": [
    "#### 4.1. Crimes by year"
   ]
  },
  {
   "cell_type": "code",
   "execution_count": 22,
   "id": "ea986519-fc60-438a-a83b-eeb5d2cfa977",
   "metadata": {
    "tags": []
   },
   "outputs": [
    {
     "name": "stderr",
     "output_type": "stream",
     "text": [
      "[Stage 5:=============================>                             (1 + 1) / 2]\r"
     ]
    },
    {
     "name": "stdout",
     "output_type": "stream",
     "text": [
      "+----+-----------+\n",
      "|year|crime_count|\n",
      "+----+-----------+\n",
      "|2001|     485912|\n",
      "|2002|     486820|\n",
      "|2003|     475989|\n",
      "|2004|     469430|\n",
      "|2005|     453779|\n",
      "|2006|     448188|\n",
      "|2007|     437089|\n",
      "|2008|     427197|\n",
      "|2009|     392841|\n",
      "|2010|     370537|\n",
      "|2011|     352008|\n",
      "|2012|     336332|\n",
      "|2013|     307561|\n",
      "|2014|     275833|\n",
      "|2015|     264840|\n",
      "|2016|     269892|\n",
      "|2017|     269172|\n",
      "|2018|     269002|\n",
      "|2019|     261468|\n",
      "|2020|     212413|\n",
      "+----+-----------+\n",
      "only showing top 20 rows\n",
      "\n"
     ]
    },
    {
     "name": "stderr",
     "output_type": "stream",
     "text": [
      "                                                                                \r"
     ]
    }
   ],
   "source": [
    "crimesByYearDF=spark.sql(\"SELECT year,count(*) AS crime_count FROM chicago_crimes_temp_view GROUP BY year ORDER BY year;\")\n",
    "crimesByYearDF.show()"
   ]
  },
  {
   "cell_type": "code",
   "execution_count": 23,
   "id": "b2bf6ecf-c0d0-4be5-8b97-85360ece00ba",
   "metadata": {
    "tags": []
   },
   "outputs": [
    {
     "name": "stderr",
     "output_type": "stream",
     "text": [
      "                                                                                \r"
     ]
    }
   ],
   "source": [
    "# Convert results to a Pandas dataframe for visualization\n",
    "crimesByYearPDF = crimesByYearDF.toPandas()"
   ]
  },
  {
   "cell_type": "code",
   "execution_count": 24,
   "id": "9840a9d5-0642-495b-b458-ed3815914360",
   "metadata": {
    "tags": []
   },
   "outputs": [
    {
     "data": {
      "text/html": [
       "<div>\n",
       "<style scoped>\n",
       "    .dataframe tbody tr th:only-of-type {\n",
       "        vertical-align: middle;\n",
       "    }\n",
       "\n",
       "    .dataframe tbody tr th {\n",
       "        vertical-align: top;\n",
       "    }\n",
       "\n",
       "    .dataframe thead th {\n",
       "        text-align: right;\n",
       "    }\n",
       "</style>\n",
       "<table border=\"1\" class=\"dataframe\">\n",
       "  <thead>\n",
       "    <tr style=\"text-align: right;\">\n",
       "      <th></th>\n",
       "      <th>year</th>\n",
       "      <th>crime_count</th>\n",
       "    </tr>\n",
       "  </thead>\n",
       "  <tbody>\n",
       "    <tr>\n",
       "      <th>0</th>\n",
       "      <td>2001</td>\n",
       "      <td>485912</td>\n",
       "    </tr>\n",
       "    <tr>\n",
       "      <th>1</th>\n",
       "      <td>2002</td>\n",
       "      <td>486820</td>\n",
       "    </tr>\n",
       "    <tr>\n",
       "      <th>2</th>\n",
       "      <td>2003</td>\n",
       "      <td>475989</td>\n",
       "    </tr>\n",
       "    <tr>\n",
       "      <th>3</th>\n",
       "      <td>2004</td>\n",
       "      <td>469430</td>\n",
       "    </tr>\n",
       "    <tr>\n",
       "      <th>4</th>\n",
       "      <td>2005</td>\n",
       "      <td>453779</td>\n",
       "    </tr>\n",
       "    <tr>\n",
       "      <th>5</th>\n",
       "      <td>2006</td>\n",
       "      <td>448188</td>\n",
       "    </tr>\n",
       "    <tr>\n",
       "      <th>6</th>\n",
       "      <td>2007</td>\n",
       "      <td>437089</td>\n",
       "    </tr>\n",
       "    <tr>\n",
       "      <th>7</th>\n",
       "      <td>2008</td>\n",
       "      <td>427197</td>\n",
       "    </tr>\n",
       "    <tr>\n",
       "      <th>8</th>\n",
       "      <td>2009</td>\n",
       "      <td>392841</td>\n",
       "    </tr>\n",
       "    <tr>\n",
       "      <th>9</th>\n",
       "      <td>2010</td>\n",
       "      <td>370537</td>\n",
       "    </tr>\n",
       "    <tr>\n",
       "      <th>10</th>\n",
       "      <td>2011</td>\n",
       "      <td>352008</td>\n",
       "    </tr>\n",
       "    <tr>\n",
       "      <th>11</th>\n",
       "      <td>2012</td>\n",
       "      <td>336332</td>\n",
       "    </tr>\n",
       "    <tr>\n",
       "      <th>12</th>\n",
       "      <td>2013</td>\n",
       "      <td>307561</td>\n",
       "    </tr>\n",
       "    <tr>\n",
       "      <th>13</th>\n",
       "      <td>2014</td>\n",
       "      <td>275833</td>\n",
       "    </tr>\n",
       "    <tr>\n",
       "      <th>14</th>\n",
       "      <td>2015</td>\n",
       "      <td>264840</td>\n",
       "    </tr>\n",
       "    <tr>\n",
       "      <th>15</th>\n",
       "      <td>2016</td>\n",
       "      <td>269892</td>\n",
       "    </tr>\n",
       "    <tr>\n",
       "      <th>16</th>\n",
       "      <td>2017</td>\n",
       "      <td>269172</td>\n",
       "    </tr>\n",
       "    <tr>\n",
       "      <th>17</th>\n",
       "      <td>2018</td>\n",
       "      <td>269002</td>\n",
       "    </tr>\n",
       "    <tr>\n",
       "      <th>18</th>\n",
       "      <td>2019</td>\n",
       "      <td>261468</td>\n",
       "    </tr>\n",
       "    <tr>\n",
       "      <th>19</th>\n",
       "      <td>2020</td>\n",
       "      <td>212413</td>\n",
       "    </tr>\n",
       "    <tr>\n",
       "      <th>20</th>\n",
       "      <td>2021</td>\n",
       "      <td>209220</td>\n",
       "    </tr>\n",
       "    <tr>\n",
       "      <th>21</th>\n",
       "      <td>2022</td>\n",
       "      <td>239363</td>\n",
       "    </tr>\n",
       "    <tr>\n",
       "      <th>22</th>\n",
       "      <td>2023</td>\n",
       "      <td>261835</td>\n",
       "    </tr>\n",
       "    <tr>\n",
       "      <th>23</th>\n",
       "      <td>2024</td>\n",
       "      <td>91841</td>\n",
       "    </tr>\n",
       "  </tbody>\n",
       "</table>\n",
       "</div>"
      ],
      "text/plain": [
       "    year  crime_count\n",
       "0   2001       485912\n",
       "1   2002       486820\n",
       "2   2003       475989\n",
       "3   2004       469430\n",
       "4   2005       453779\n",
       "5   2006       448188\n",
       "6   2007       437089\n",
       "7   2008       427197\n",
       "8   2009       392841\n",
       "9   2010       370537\n",
       "10  2011       352008\n",
       "11  2012       336332\n",
       "12  2013       307561\n",
       "13  2014       275833\n",
       "14  2015       264840\n",
       "15  2016       269892\n",
       "16  2017       269172\n",
       "17  2018       269002\n",
       "18  2019       261468\n",
       "19  2020       212413\n",
       "20  2021       209220\n",
       "21  2022       239363\n",
       "22  2023       261835\n",
       "23  2024        91841"
      ]
     },
     "execution_count": 24,
     "metadata": {},
     "output_type": "execute_result"
    }
   ],
   "source": [
    "crimesByYearPDF"
   ]
  },
  {
   "cell_type": "code",
   "execution_count": 25,
   "id": "071e944a-952a-458a-a4a2-ddd54203e7b4",
   "metadata": {
    "tags": []
   },
   "outputs": [],
   "source": [
    "import matplotlib.pyplot as plt"
   ]
  },
  {
   "cell_type": "code",
   "execution_count": 26,
   "id": "0721f479-dd34-428c-9184-c60890d60fd2",
   "metadata": {
    "tags": []
   },
   "outputs": [
    {
     "data": {
      "text/plain": [
       "<Axes: xlabel='year'>"
      ]
     },
     "execution_count": 26,
     "metadata": {},
     "output_type": "execute_result"
    },
    {
     "data": {
      "image/png": "[encoded data removed]",
      "text/plain": [
       "<Figure size 1200x1200 with 1 Axes>"
      ]
     },
     "metadata": {},
     "output_type": "display_data"
    }
   ],
   "source": [
    "crimesByYearPDF.plot.bar(x='year', y='crime_count', rot=0,figsize=(12, 12))"
   ]
  },
  {
   "cell_type": "markdown",
   "id": "93adf4a1-9948-46ba-a198-c1e898c07458",
   "metadata": {},
   "source": [
    "#### 4.2. Crimes count by day"
   ]
  },
  {
   "cell_type": "code",
   "execution_count": 27,
   "id": "ad9446ba-8c41-4d92-b88d-4fab83fc72ac",
   "metadata": {
    "tags": []
   },
   "outputs": [
    {
     "name": "stderr",
     "output_type": "stream",
     "text": [
      "[Stage 16:=============================>                            (1 + 1) / 2]\r"
     ]
    },
    {
     "name": "stdout",
     "output_type": "stream",
     "text": [
      "+---------+-----------+\n",
      "|      day|crime_count|\n",
      "+---------+-----------+\n",
      "|     NULL|    1156345|\n",
      "|   Friday|    1160156|\n",
      "| Saturday|    1148571|\n",
      "|   Sunday|    1211254|\n",
      "| Thursday|    1152842|\n",
      "|  Tuesday|    1099145|\n",
      "|Wednesday|    1140249|\n",
      "+---------+-----------+\n",
      "\n"
     ]
    },
    {
     "name": "stderr",
     "output_type": "stream",
     "text": [
      "                                                                                \r"
     ]
    }
   ],
   "source": [
    "\n",
    "crimesByDayDF=spark.sql(\"SELECT case_day_of_week_name as day,count(*) AS crime_count FROM chicago_crimes_temp_view GROUP BY case_day_of_week_name ORDER BY case_day_of_week_name;\")\n",
    "crimesByDayDF.show()"
   ]
  },
  {
   "cell_type": "code",
   "execution_count": 28,
   "id": "6d0b9ef1-6047-403f-a2b9-a2ba4d065a66",
   "metadata": {
    "tags": []
   },
   "outputs": [
    {
     "name": "stderr",
     "output_type": "stream",
     "text": [
      "                                                                                \r"
     ]
    }
   ],
   "source": [
    "# Convert results to a Pandas dataframe for visualization\n",
    "crimesByDayPDF = crimesByDayDF.toPandas()"
   ]
  },
  {
   "cell_type": "code",
   "execution_count": 29,
   "id": "bbb6bcc4-b59e-4e88-a5f4-d1ac8f0940c7",
   "metadata": {
    "tags": []
   },
   "outputs": [
    {
     "data": {
      "text/plain": [
       "<Axes: title={'center': 'Crimes by day of week'}, ylabel='crime_count'>"
      ]
     },
     "execution_count": 29,
     "metadata": {},
     "output_type": "execute_result"
    },
    {
     "data": {
      "image/png": "[encoded data removed]",
      "text/plain": [
       "<Figure size 1200x1200 with 1 Axes>"
      ]
     },
     "metadata": {},
     "output_type": "display_data"
    }
   ],
   "source": [
    "crimesByDayPDF.plot.pie(y='crime_count', x='day', figsize=(12,12),title='Crimes by day of week', labels = ['Monday','Tuesday','Wednesday','Thuesday','Friday','Saturday','Sunday'],autopct='%1.0f%%')"
   ]
  }
 ],
 "metadata": {
  "environment": {
   "kernel": "",
   "name": "workbench-notebooks.m121",
   "type": "gcloud",
   "uri": "us-docker.pkg.dev/deeplearning-platform-release/gcr.io/workbench-notebooks:m121"
  },
  "kernelspec": {
   "display_name": "",
   "name": ""
  },
  "language_info": {
   "codemirror_mode": {
    "name": "ipython",
    "version": 3
   },
   "file_extension": ".py",
   "mimetype": "text/x-python",
   "name": "python",
   "nbconvert_exporter": "python",
   "pygments_lexer": "ipython3",
   "version": "3.12.3"
  },
  "serverless_spark": "{\"name\":\"projects/charaka-349315/locations/us-central1/sessions/charaka-vai\",\"uuid\":\"42dba073-472b-473d-ba31-d3668c0209d8\",\"createTime\":\"2022-05-12T06:24:06.691633Z\",\"jupyterSession\":{},\"spark\":{},\"runtimeInfo\":{\"endpoints\":{\"Spark History Server\":\"https://igxqev2rzjf67bpo3ex3bgyse4-dot-us-central1.dataproc.googleusercontent.com/sparkhistory/\"},\"outputUri\":\"https://nt2x34fyjrgivaygsqhqmzdxca-dot-us-central1.dataproc.googleusercontent.com/gateway/default/jupyter/lab/\"},\"state\":\"ACTIVE\",\"stateTime\":\"2022-05-12T06:25:15.559667Z\",\"creator\":\"s8s-lab-sa@charaka-349315.iam.gserviceaccount.com\",\"runtimeConfig\":{\"properties\":{\"spark:spark.jars\":\"gs://spark-lib/bigquery/spark-bigquery-with-dependencies_2.12-0.22.2.jar\",\"spark:spark.executor.instances\":\"2\",\"spark:spark.driver.cores\":\"4\",\"spark:spark.executor.cores\":\"4\",\"spark:spark.eventLog.dir\":\"gs://s8s-sphs-159504796045/42dba073-472b-473d-ba31-d3668c0209d8/spark-job-history\"}},\"environmentConfig\":{\"executionConfig\":{\"serviceAccount\":\"s8s-lab-sa@charaka-349315.iam.gserviceaccount.com\",\"subnetworkUri\":\"https://www.googleapis.com/compute/v1/projects/charaka-349315/regions/us-central1/subnetworks/spark-snet\"},\"peripheralsConfig\":{\"sparkHistoryServerConfig\":{\"dataprocCluster\":\"projects/charaka-349315/regions/us-central1/clusters/s8s-sphs-159504796045\"}}}}",
  "serverless_spark_kernel_name": "remote-bde5aa2c167788804d4b36b2-pyspark"
 },
 "nbformat": 4,
 "nbformat_minor": 5
}
