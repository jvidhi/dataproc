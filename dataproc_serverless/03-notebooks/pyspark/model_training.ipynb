{
 "cells": [
  {
   "cell_type": "markdown",
   "metadata": {},
   "source": [
    "# MODEL TRAINING\n",
    "This script does training with Spark MLLib of a Random Forest Classification model for the customer churn prediction experiment-</br>\n",
    "Uses BigQuery as a source, and writes test results, model metrics and \n",
    "feature importance scores to BigQuery"
   ]
  },
  {
   "cell_type": "code",
   "execution_count": 2,
   "metadata": {
    "tags": []
   },
   "outputs": [],
   "source": [
    "from pyspark.sql import SparkSession\n",
    "from pyspark.ml import Pipeline\n",
    "from pyspark.ml.feature import OneHotEncoder, StringIndexer, VectorAssembler\n",
    "from pyspark.ml.classification import RandomForestClassifier\n",
    "from pyspark.mllib.evaluation import MulticlassMetrics\n",
    "from pyspark.ml.evaluation import BinaryClassificationEvaluator, MulticlassClassificationEvaluator\n",
    "from pyspark.ml.tuning import ParamGridBuilder, CrossValidator\n",
    "from pyspark.sql.types import FloatType\n",
    "import pyspark.sql.functions as F\n",
    "from pyspark.ml.feature import StringIndexer\n",
    "import pandas as pd\n",
    "import sys, logging, argparse, random, tempfile, json\n",
    "from pyspark.sql.functions import col, udf\n",
    "from pyspark.sql.functions import round as spark_round\n",
    "from pyspark.sql.types import StructType, DoubleType, StringType\n",
    "from pyspark.sql.functions import lit\n",
    "from pathlib import Path as path\n",
    "from google.cloud import storage\n",
    "from urllib.parse import urlparse, urljoin\n",
    "from datetime import datetime\n",
    "import random"
   ]
  },
  {
   "cell_type": "code",
   "execution_count": 3,
   "metadata": {},
   "outputs": [
    {
     "data": {
      "text/html": [
       "\n",
       "            <div>\n",
       "                <p><b>SparkSession - hive</b></p>\n",
       "                \n",
       "        <div>\n",
       "            <p><b>SparkContext</b></p>\n",
       "\n",
       "            <p><a href=\"http://gdpic-srvls-session-1d836424-49f7-43ae-bd98-9bbd5751e514-m.us-central1-a.c.vertex-ai-382806.internal:4040\">Spark UI</a></p>\n",
       "\n",
       "            <dl>\n",
       "              <dt>Version</dt>\n",
       "                <dd><code>v3.5.1</code></dd>\n",
       "              <dt>Master</dt>\n",
       "                <dd><code>spark://gdpic-srvls-session-1d836424-49f7-43ae-bd98-9bbd5751e514-m:7077</code></dd>\n",
       "              <dt>AppName</dt>\n",
       "                <dd><code>PySparkShell</code></dd>\n",
       "            </dl>\n",
       "        </div>\n",
       "        \n",
       "            </div>\n",
       "        "
      ],
      "text/plain": [
       "<pyspark.sql.session.SparkSession at 0x7fee36fb50a0>"
      ]
     },
     "execution_count": 3,
     "metadata": {},
     "output_type": "execute_result"
    }
   ],
   "source": [
    "spark"
   ]
  },
  {
   "cell_type": "code",
   "execution_count": 4,
   "metadata": {
    "tags": []
   },
   "outputs": [],
   "source": [
    "# 1a. Arguments\n",
    "pipelineID = random.randint(1, 10000)\n",
    "projectNbr = \"433578906282\"\n",
    "projectID = \"vertex-ai-382806\"\n",
    "displayPrintStatements = True"
   ]
  },
  {
   "cell_type": "code",
   "execution_count": 5,
   "metadata": {
    "tags": []
   },
   "outputs": [],
   "source": [
    "# 1b. Variables \n",
    "appBaseName = \"customer-churn-model\"\n",
    "appNameSuffix = \"training\"\n",
    "appName = f\"{appBaseName}-{appNameSuffix}\"\n",
    "modelBaseNm = appBaseName\n",
    "modelVersion = pipelineID\n",
    "bqDatasetNm = f\"{projectID}.customer_churn_ds\"\n",
    "operation = appNameSuffix\n",
    "bigQuerySourceTableFQN = f\"{bqDatasetNm}.training_data\"\n",
    "bigQueryModelTestResultsTableFQN = f\"{bqDatasetNm}.test_predictions\"\n",
    "bigQueryModelMetricsTableFQN = f\"{bqDatasetNm}.model_metrics\"\n",
    "bigQueryFeatureImportanceTableFQN = f\"{bqDatasetNm}.model_feature_importance_scores\"\n",
    "modelBucketUri = f\"gs://s8s_model_bucket-{projectNbr}/{modelBaseNm}/{operation}/{modelVersion}\"\n",
    "metricsBucketUri = f\"gs://s8s_metrics_bucket-{projectNbr}/{modelBaseNm}/{operation}/{modelVersion}\"\n",
    "scratchBucketUri = f\"s8s-spark-bucket-{projectNbr}/{appBaseName}/pipelineId-{pipelineID}/{appNameSuffix}/\"\n",
    "pipelineExecutionDt = datetime.now().strftime(\"%Y%m%d%H%M%S\")"
   ]
  },
  {
   "cell_type": "code",
   "execution_count": 6,
   "metadata": {
    "tags": []
   },
   "outputs": [],
   "source": [
    "# Other variables, constants\n",
    "SPLIT_SEED = 6\n",
    "SPLIT_SPECS = [0.8, 0.2]"
   ]
  },
  {
   "cell_type": "code",
   "execution_count": 7,
   "metadata": {
    "tags": []
   },
   "outputs": [
    {
     "name": "stdout",
     "output_type": "stream",
     "text": [
      "Starting model training for *Customer Churn* experiment\n",
      ".....................................................\n",
      "The datetime now is - 20240603065934\n",
      " \n",
      "INPUT PARAMETERS\n",
      "....pipelineID=4244\n",
      "....projectID=vertex-ai-382806\n",
      "....projectNbr=433578906282\n",
      "....displayPrintStatements=True\n",
      " \n",
      "EXPECTED SETUP\n",
      "....BQ Dataset=vertex-ai-382806.customer_churn_ds\n",
      "....Model Training Source Data in BigQuery=vertex-ai-382806.customer_churn_ds.training_data\n",
      "....Scratch Bucket for BQ connector=gs://s8s-spark-bucket-433578906282\n",
      "....Model Bucket=gs://s8s-model-bucket-433578906282\n",
      "....Metrics Bucket=gs://s8s-metrics-bucket-433578906282\n",
      " \n",
      "OUTPUT\n",
      "....Model in GCS=gs://s8s_model_bucket-433578906282/customer-churn-model/training/4244\n",
      "....Model metrics in GCS=gs://s8s_metrics_bucket-433578906282/customer-churn-model/training/4244\n",
      "....Model metrics in BigQuery=vertex-ai-382806.customer_churn_ds.model_metrics\n",
      "....Model feature importance scores in BigQuery=vertex-ai-382806.customer_churn_ds.model_feature_importance_scores\n",
      "....Model test results in BigQuery=vertex-ai-382806.customer_churn_ds.test_predictions\n"
     ]
    }
   ],
   "source": [
    "# 1c. Display input and output\n",
    "if displayPrintStatements:\n",
    "    print(\"Starting model training for *Customer Churn* experiment\")\n",
    "    print(\".....................................................\")\n",
    "    print(f\"The datetime now is - {pipelineExecutionDt}\")\n",
    "    print(\" \")\n",
    "    print(\"INPUT PARAMETERS\")\n",
    "    print(f\"....pipelineID={pipelineID}\")\n",
    "    print(f\"....projectID={projectID}\")\n",
    "    print(f\"....projectNbr={projectNbr}\")\n",
    "    print(f\"....displayPrintStatements={displayPrintStatements}\")\n",
    "    print(\" \")\n",
    "    print(\"EXPECTED SETUP\")  \n",
    "    print(f\"....BQ Dataset={bqDatasetNm}\")\n",
    "    print(f\"....Model Training Source Data in BigQuery={bigQuerySourceTableFQN}\")\n",
    "    print(f\"....Scratch Bucket for BQ connector=gs://s8s-spark-bucket-{projectNbr}\") \n",
    "    print(f\"....Model Bucket=gs://s8s-model-bucket-{projectNbr}\")  \n",
    "    print(f\"....Metrics Bucket=gs://s8s-metrics-bucket-{projectNbr}\") \n",
    "    print(\" \")\n",
    "    print(\"OUTPUT\")\n",
    "    print(f\"....Model in GCS={modelBucketUri}\")\n",
    "    print(f\"....Model metrics in GCS={metricsBucketUri}\")  \n",
    "    print(f\"....Model metrics in BigQuery={bigQueryModelMetricsTableFQN}\")      \n",
    "    print(f\"....Model feature importance scores in BigQuery={bigQueryFeatureImportanceTableFQN}\") \n",
    "    print(f\"....Model test results in BigQuery={bigQueryModelTestResultsTableFQN}\") "
   ]
  },
  {
   "cell_type": "code",
   "execution_count": 8,
   "metadata": {
    "tags": []
   },
   "outputs": [
    {
     "name": "stdout",
     "output_type": "stream",
     "text": [
      "....Initializing spark & spark configs\n"
     ]
    },
    {
     "name": "stderr",
     "output_type": "stream",
     "text": [
      "24/06/03 06:59:34 WARN SparkSession: Using an existing Spark session; only runtime SQL configurations will take effect.\n"
     ]
    }
   ],
   "source": [
    "# 2. Spark Session creation\n",
    "print('....Initializing spark & spark configs')\n",
    "spark = SparkSession.builder.appName(appName).getOrCreate()\n",
    "\n",
    "# Spark configuration setting for writes to BigQuery\n",
    "spark.conf.set(\"parentProject\", projectID)\n",
    "spark.conf.set(\"temporaryGcsBucket\", scratchBucketUri)\n",
    "spark.conf.set(\"spark.sql.execution.arrow.pyspark.enabled\", \"true\")\n",
    "\n",
    "# Add Python modules\n",
    "sc.addPyFile(f\"gs://s8s_code_bucket-{projectNbr}/pyspark/common_utils.py\")\n",
    "import common_utils"
   ]
  },
  {
   "cell_type": "markdown",
   "metadata": {},
   "source": [
    "### TRAINING DATA - READ, SPLIT"
   ]
  },
  {
   "cell_type": "code",
   "execution_count": 11,
   "metadata": {
    "tags": []
   },
   "outputs": [
    {
     "name": "stdout",
     "output_type": "stream",
     "text": [
      "....Read the training dataset into a dataframe\n",
      "root\n",
      " |-- customer_id: string (nullable = true)\n",
      " |-- gender: string (nullable = true)\n",
      " |-- senior_citizen: long (nullable = true)\n",
      " |-- partner: string (nullable = true)\n",
      " |-- dependents: string (nullable = true)\n",
      " |-- tenure: long (nullable = true)\n",
      " |-- tenure_group: string (nullable = true)\n",
      " |-- phone_service: string (nullable = true)\n",
      " |-- multiple_lines: string (nullable = true)\n",
      " |-- internet_service: string (nullable = true)\n",
      " |-- online_security: string (nullable = true)\n",
      " |-- online_backup: string (nullable = true)\n",
      " |-- device_protection: string (nullable = true)\n",
      " |-- tech_support: string (nullable = true)\n",
      " |-- streaming_tv: string (nullable = true)\n",
      " |-- streaming_movies: string (nullable = true)\n",
      " |-- contract: string (nullable = true)\n",
      " |-- paperless_billing: string (nullable = true)\n",
      " |-- payment_method: string (nullable = true)\n",
      " |-- monthly_charges: double (nullable = true)\n",
      " |-- total_charges: double (nullable = true)\n",
      " |-- churn: string (nullable = true)\n",
      " |-- pipeline_id: string (nullable = false)\n",
      " |-- pipeline_execution_dt: string (nullable = false)\n",
      "\n",
      "inputDF count=7032\n"
     ]
    },
    {
     "name": "stderr",
     "output_type": "stream",
     "text": [
      "                                                                                \r"
     ]
    }
   ],
   "source": [
    "# 3. Read training data\n",
    "print('....Read the training dataset into a dataframe')\n",
    "inputDF = spark.read \\\n",
    "    .format('bigquery') \\\n",
    "    .load(bigQuerySourceTableFQN)\n",
    "\n",
    "inputDF.printSchema()\n",
    "\n",
    "if displayPrintStatements:\n",
    "    print(f\"inputDF count={inputDF.count()}\")"
   ]
  },
  {
   "cell_type": "code",
   "execution_count": 12,
   "metadata": {
    "tags": []
   },
   "outputs": [],
   "source": [
    "# Typecast some columns to the right datatype\n",
    "inputDF = inputDF.withColumn(\"partner\", inputDF.partner.cast('string')) \\\n",
    "    .withColumn(\"dependents\", inputDF.dependents.cast('string')) \\\n",
    "    .withColumn(\"phone_service\", inputDF.phone_service.cast('string')) \\\n",
    "    .withColumn(\"paperless_billing\", inputDF.paperless_billing.cast('string')) \\\n",
    "    .withColumn(\"churn\", inputDF.churn.cast('string')) \\\n",
    "    .withColumn(\"monthly_charges\", inputDF.monthly_charges.cast('float')) \\\n",
    "    .withColumn(\"total_charges\", inputDF.total_charges.cast('float'))"
   ]
  },
  {
   "cell_type": "code",
   "execution_count": 13,
   "metadata": {
    "tags": []
   },
   "outputs": [
    {
     "name": "stdout",
     "output_type": "stream",
     "text": [
      "....Split the dataset\n"
     ]
    }
   ],
   "source": [
    "# 4. Split to training and test datasets\n",
    "print('....Split the dataset')\n",
    "trainDF, testDF = inputDF.randomSplit(SPLIT_SPECS, seed=SPLIT_SEED)"
   ]
  },
  {
   "cell_type": "markdown",
   "metadata": {},
   "source": [
    "### PREPROCESSING & FEATURE ENGINEERING "
   ]
  },
  {
   "cell_type": "code",
   "execution_count": 14,
   "metadata": {
    "tags": []
   },
   "outputs": [
    {
     "name": "stdout",
     "output_type": "stream",
     "text": [
      "....Data pre-procesing\n"
     ]
    }
   ],
   "source": [
    "# 5. Pre-process training data\n",
    "print('....Data pre-procesing')\n",
    "dataPreprocessingStagesList = []\n",
    "# 5a. Create and append to pipeline stages - string indexing and one hot encoding\n",
    "for eachCategoricalColumn in common_utils.CATEGORICAL_COLUMN_LIST:\n",
    "    # Category indexing with StringIndexer\n",
    "    stringIndexer = StringIndexer(inputCol=eachCategoricalColumn, outputCol=eachCategoricalColumn + \"Index\")\n",
    "    # Use OneHotEncoder to convert categorical variables into binary SparseVectors\n",
    "    encoder = OneHotEncoder(inputCols=[stringIndexer.getOutputCol()], outputCols=[eachCategoricalColumn + \"classVec\"])\n",
    "    # Add stages.  This is a lazy operation\n",
    "    dataPreprocessingStagesList += [stringIndexer, encoder]\n",
    "\n",
    "# 5b. Convert label into label indices using the StringIndexer and append to pipeline stages\n",
    "labelStringIndexer = StringIndexer(inputCol=\"churn\", outputCol=\"label\")\n",
    "dataPreprocessingStagesList += [labelStringIndexer]\n"
   ]
  },
  {
   "cell_type": "code",
   "execution_count": 15,
   "metadata": {
    "tags": []
   },
   "outputs": [
    {
     "name": "stdout",
     "output_type": "stream",
     "text": [
      "....Feature engineering\n"
     ]
    }
   ],
   "source": [
    "# 6. Feature engineering\n",
    "print('....Feature engineering')\n",
    "featureEngineeringStageList = []\n",
    "assemblerInputs = common_utils.NUMERIC_COLUMN_LIST + [c + \"classVec\" for c in common_utils.CATEGORICAL_COLUMN_LIST]\n",
    "featuresVectorAssembler = VectorAssembler(inputCols=assemblerInputs, outputCol=\"features\")\n",
    "featureEngineeringStageList += [featuresVectorAssembler]"
   ]
  },
  {
   "cell_type": "markdown",
   "metadata": {},
   "source": [
    "### MODEL TRAINING"
   ]
  },
  {
   "cell_type": "code",
   "execution_count": 16,
   "metadata": {
    "tags": []
   },
   "outputs": [
    {
     "name": "stdout",
     "output_type": "stream",
     "text": [
      "....Model training\n"
     ]
    }
   ],
   "source": [
    "# 5. Model training\n",
    "print('....Model training')\n",
    "modelTrainingStageList = []\n",
    "rfClassifier = RandomForestClassifier(labelCol=\"label\", featuresCol=\"features\")\n",
    "modelTrainingStageList += [rfClassifier]"
   ]
  },
  {
   "cell_type": "code",
   "execution_count": 17,
   "metadata": {
    "tags": []
   },
   "outputs": [
    {
     "name": "stdout",
     "output_type": "stream",
     "text": [
      "....Instantiating pipeline model\n"
     ]
    }
   ],
   "source": [
    "# 6. Create a model training pipeline for stages defined\n",
    "print('....Instantiating pipeline model')\n",
    "pipeline = Pipeline(stages=dataPreprocessingStagesList + featureEngineeringStageList + modelTrainingStageList) \n"
   ]
  },
  {
   "cell_type": "code",
   "execution_count": 18,
   "metadata": {
    "tags": []
   },
   "outputs": [
    {
     "name": "stdout",
     "output_type": "stream",
     "text": [
      "....Fit the model\n"
     ]
    },
    {
     "name": "stderr",
     "output_type": "stream",
     "text": [
      "                                                                                \r"
     ]
    }
   ],
   "source": [
    "# 9. Fit the model\n",
    "print('....Fit the model')\n",
    "pipelineModel = pipeline.fit(trainDF)"
   ]
  },
  {
   "cell_type": "code",
   "execution_count": null,
   "metadata": {},
   "outputs": [],
   "source": [
    "# import mleap.pyspark\n",
    "# from mleap.pyspark.spark_support import SimpleSparkSerializer\n",
    "# pipelineModel.serializeToBundle(\"jar:file:/tmp/mleap_python_model_export/churn-pipeline-json.zip\", pipelineModel.transform(trainDF))\n",
    "# upload_model_to_gcs('/tmp/mleap_python_model_export/churn-pipeline-json.zip', 'gs://s8s_model_bucket-433578906282/customer-churn-model/')"
   ]
  },
  {
   "cell_type": "code",
   "execution_count": null,
   "metadata": {},
   "outputs": [],
   "source": [
    "# def upload_model_to_gcs(local_model_path, gcs_destination):\n",
    "#     \"\"\"\n",
    "#     Uploads a model file from the local filesystem to Google Cloud Storage.\n",
    "\n",
    "#     Args:\n",
    "#         local_model_path (str): The path to the model file on your local machine.\n",
    "#         gcs_destination (str): The GCS URI where you want to store the model.\n",
    "#     \"\"\"\n",
    "#     import subprocess\n",
    "\n",
    "#     command = [\n",
    "#         \"gsutil\",\n",
    "#         \"cp\",\n",
    "#         local_model_path,\n",
    "#         gcs_destination\n",
    "#     ]\n",
    "\n",
    "#     try:\n",
    "#         result = subprocess.run(command, check=True, capture_output=True, text=True)\n",
    "#         print(f\"Upload successful:\\n{result.stdout}\")\n",
    "#     except subprocess.CalledProcessError as e:\n",
    "#         print(f\"Upload failed with error:\\n{e.stderr}\")\n"
   ]
  },
  {
   "cell_type": "markdown",
   "metadata": {},
   "source": [
    "### MODEL TESTING"
   ]
  },
  {
   "cell_type": "code",
   "execution_count": 19,
   "metadata": {
    "tags": []
   },
   "outputs": [
    {
     "name": "stdout",
     "output_type": "stream",
     "text": [
      "....Test the model\n"
     ]
    },
    {
     "name": "stderr",
     "output_type": "stream",
     "text": [
      "24/06/03 07:01:19 WARN SparkStringUtils: Truncated the string representation of a plan since it was too large. This behavior can be adjusted by setting 'spark.sql.debug.maxToStringFields'.\n",
      "[Stage 71:>                                                         (0 + 1) / 1]\r"
     ]
    },
    {
     "name": "stdout",
     "output_type": "stream",
     "text": [
      "+-----------+------+--------------+-------+----------+------+------------+-------------+--------------+----------------+---------------+-------------+-----------------+------------+------------+----------------+--------------+-----------------+----------------+---------------+-------------+-----+-----------+---------------------+-----------+--------------+-------------------+----------------------+------------+---------------+---------------+------------------+------------------+---------------------+-------------------+----------------------+---------------------+------------------------+--------------------+-----------------------+------------------+---------------------+----------------------+-------------------------+-----------------+--------------------+-----------------+--------------------+---------------------+------------------------+-------------+----------------+----------------------+-------------------------+-------------------+----------------------+-----+--------------------+--------------------+--------------------+----------+\n",
      "|customer_id|gender|senior_citizen|partner|dependents|tenure|tenure_group|phone_service|multiple_lines|internet_service|online_security|online_backup|device_protection|tech_support|streaming_tv|streaming_movies|      contract|paperless_billing|  payment_method|monthly_charges|total_charges|churn|pipeline_id|pipeline_execution_dt|genderIndex|genderclassVec|senior_citizenIndex|senior_citizenclassVec|partnerIndex|partnerclassVec|dependentsIndex|dependentsclassVec|phone_serviceIndex|phone_serviceclassVec|multiple_linesIndex|multiple_linesclassVec|internet_serviceIndex|internet_serviceclassVec|online_securityIndex|online_securityclassVec|online_backupIndex|online_backupclassVec|device_protectionIndex|device_protectionclassVec|tech_supportIndex|tech_supportclassVec|streaming_tvIndex|streaming_tvclassVec|streaming_moviesIndex|streaming_moviesclassVec|contractIndex|contractclassVec|paperless_billingIndex|paperless_billingclassVec|payment_methodIndex|payment_methodclassVec|label|            features|       rawPrediction|         probability|prediction|\n",
      "+-----------+------+--------------+-------+----------+------+------------+-------------+--------------+----------------+---------------+-------------+-----------------+------------+------------+----------------+--------------+-----------------+----------------+---------------+-------------+-----+-----------+---------------------+-----------+--------------+-------------------+----------------------+------------+---------------+---------------+------------------+------------------+---------------------+-------------------+----------------------+---------------------+------------------------+--------------------+-----------------------+------------------+---------------------+----------------------+-------------------------+-----------------+--------------------+-----------------+--------------------+---------------------+------------------------+-------------+----------------+----------------------+-------------------------+-------------------+----------------------+-----+--------------------+--------------------+--------------------+----------+\n",
      "| 0011-IGKFF|  Male|             1|    Yes|        No|    13|Tenure_12-24|          Yes|            No|     Fiber optic|             No|          Yes|              Yes|          No|         Yes|             Yes|Month-to-month|              Yes|Electronic check|           98.0|      1237.85|  yes|       8452|       20240603063055|        0.0| (1,[0],[1.0])|                1.0|             (1,[],[])|         1.0|      (1,[],[])|            0.0|     (1,[0],[1.0])|               0.0|        (1,[0],[1.0])|                0.0|         (2,[0],[1.0])|                  0.0|           (2,[0],[1.0])|                 0.0|          (1,[0],[1.0])|               1.0|            (1,[],[])|                   1.0|                (1,[],[])|              0.0|       (1,[0],[1.0])|              1.0|           (1,[],[])|                  1.0|               (1,[],[])|          0.0|   (2,[0],[1.0])|                   0.0|            (1,[0],[1.0])|                0.0|         (3,[0],[1.0])|  1.0|(23,[0,1,2,5,6,7,...|[9.23108013239536...|[0.46155400661976...|       1.0|\n",
      "| 0013-EXCHZ|Female|             1|    Yes|        No|     3| Tenure_0-12|          Yes|            No|     Fiber optic|             No|           No|               No|         Yes|         Yes|              No|Month-to-month|              Yes|    Mailed check|           83.9|        267.4|  yes|       8452|       20240603063055|        1.0|     (1,[],[])|                1.0|             (1,[],[])|         1.0|      (1,[],[])|            0.0|     (1,[0],[1.0])|               0.0|        (1,[0],[1.0])|                0.0|         (2,[0],[1.0])|                  0.0|           (2,[0],[1.0])|                 0.0|          (1,[0],[1.0])|               0.0|        (1,[0],[1.0])|                   0.0|            (1,[0],[1.0])|              1.0|           (1,[],[])|              1.0|           (1,[],[])|                  0.0|           (1,[0],[1.0])|          0.0|   (2,[0],[1.0])|                   0.0|            (1,[0],[1.0])|                1.0|         (3,[1],[1.0])|  1.0|(23,[0,1,5,6,7,9,...|[8.54325524837585...|[0.42716276241879...|       1.0|\n",
      "+-----------+------+--------------+-------+----------+------+------------+-------------+--------------+----------------+---------------+-------------+-----------------+------------+------------+----------------+--------------+-----------------+----------------+---------------+-------------+-----+-----------+---------------------+-----------+--------------+-------------------+----------------------+------------+---------------+---------------+------------------+------------------+---------------------+-------------------+----------------------+---------------------+------------------------+--------------------+-----------------------+------------------+---------------------+----------------------+-------------------------+-----------------+--------------------+-----------------+--------------------+---------------------+------------------------+-------------+----------------+----------------------+-------------------------+-------------------+----------------------+-----+--------------------+--------------------+--------------------+----------+\n",
      "only showing top 2 rows\n",
      "\n"
     ]
    },
    {
     "name": "stderr",
     "output_type": "stream",
     "text": [
      "                                                                                \r"
     ]
    }
   ],
   "source": [
    "# 10. Test the model with the test dataset\n",
    "print('....Test the model')\n",
    "predictionsDF = pipelineModel.transform(testDF)\n",
    "predictionsDF.show(2)"
   ]
  },
  {
   "cell_type": "code",
   "execution_count": 22,
   "metadata": {
    "tags": []
   },
   "outputs": [
    {
     "name": "stdout",
     "output_type": "stream",
     "text": [
      "....Persist the model to GCS\n"
     ]
    },
    {
     "name": "stderr",
     "output_type": "stream",
     "text": [
      "                                                                                \r"
     ]
    }
   ],
   "source": [
    "# 11. Persist model to GCS\n",
    "print('....Persist the model to GCS')\n",
    "pipelineModel.write().overwrite().save(modelBucketUri)"
   ]
  },
  {
   "cell_type": "code",
   "execution_count": 23,
   "metadata": {
    "tags": []
   },
   "outputs": [
    {
     "name": "stderr",
     "output_type": "stream",
     "text": [
      "                                                                                \r"
     ]
    }
   ],
   "source": [
    "# 12. Persist model testing results to BigQuery\n",
    "persistPredictionsDF = predictionsDF.withColumn(\"pipeline_id\", lit(pipelineID).cast(\"string\")) \\\n",
    "                                   .withColumn(\"model_version\", lit(pipelineID).cast(\"string\")) \\\n",
    "                                   .withColumn(\"pipeline_execution_dt\", lit(pipelineExecutionDt)) \\\n",
    "                                   .withColumn(\"operation\", lit(appNameSuffix)) \n",
    "\n",
    "persistPredictionsDF.write.format('bigquery') \\\n",
    ".mode(\"overwrite\")\\\n",
    ".option('table', bigQueryModelTestResultsTableFQN) \\\n",
    ".save()"
   ]
  },
  {
   "cell_type": "markdown",
   "metadata": {},
   "source": [
    "### MODEL EXPLAINABILITY"
   ]
  },
  {
   "cell_type": "code",
   "execution_count": 24,
   "metadata": {
    "tags": []
   },
   "outputs": [
    {
     "data": {
      "text/plain": [
       "SparseVector(23, {0: 0.1292, 1: 0.2336, 3: 0.0132, 4: 0.0121, 5: 0.0028, 6: 0.0115, 7: 0.0039, 8: 0.0006, 9: 0.1446, 10: 0.0164, 11: 0.0339, 12: 0.0142, 13: 0.0011, 14: 0.0087, 15: 0.0001, 16: 0.0045, 17: 0.1838, 18: 0.0633, 19: 0.0153, 20: 0.0953, 21: 0.0057, 22: 0.0062})"
      ]
     },
     "execution_count": 24,
     "metadata": {},
     "output_type": "execute_result"
    }
   ],
   "source": [
    "# 13a. Model explainability - feature importance\n",
    "pipelineModel.stages[-1].featureImportances"
   ]
  },
  {
   "cell_type": "code",
   "execution_count": 25,
   "metadata": {
    "tags": []
   },
   "outputs": [],
   "source": [
    "# 13b. Function to parse feature importance\n",
    "def fnExtractFeatureImportance(featureImportanceSparseVector, predictionsDataframe, featureColumnListing):\n",
    "    featureColumnMetadataList = []\n",
    "    for i in predictionsDataframe.schema[featureColumnListing].metadata[\"ml_attr\"][\"attrs\"]:\n",
    "        featureColumnMetadataList = featureColumnMetadataList + predictionsDataframe.schema[featureColumnListing].metadata[\"ml_attr\"][\"attrs\"][i]\n",
    "        \n",
    "    featureColumnMetadataPDF = pd.DataFrame(featureColumnMetadataList)\n",
    "    featureColumnMetadataPDF['importance_score'] = featureColumnMetadataPDF['idx'].apply(lambda x: featureImportanceSparseVector[x])\n",
    "    return(featureColumnMetadataPDF.sort_values('importance_score', ascending = False))\n"
   ]
  },
  {
   "cell_type": "code",
   "execution_count": 26,
   "metadata": {
    "tags": []
   },
   "outputs": [
    {
     "data": {
      "text/html": [
       "<div>\n",
       "<style scoped>\n",
       "    .dataframe tbody tr th:only-of-type {\n",
       "        vertical-align: middle;\n",
       "    }\n",
       "\n",
       "    .dataframe tbody tr th {\n",
       "        vertical-align: top;\n",
       "    }\n",
       "\n",
       "    .dataframe thead th {\n",
       "        text-align: right;\n",
       "    }\n",
       "</style>\n",
       "<table border=\"1\" class=\"dataframe\">\n",
       "  <thead>\n",
       "    <tr style=\"text-align: right;\">\n",
       "      <th></th>\n",
       "      <th>name</th>\n",
       "      <th>idx</th>\n",
       "      <th>importance_score</th>\n",
       "    </tr>\n",
       "  </thead>\n",
       "  <tbody>\n",
       "    <tr>\n",
       "      <th>22</th>\n",
       "      <td>total_charges</td>\n",
       "      <td>1</td>\n",
       "      <td>0.233650</td>\n",
       "    </tr>\n",
       "    <tr>\n",
       "      <th>15</th>\n",
       "      <td>contractclassVec_Month-to-month</td>\n",
       "      <td>17</td>\n",
       "      <td>0.183778</td>\n",
       "    </tr>\n",
       "    <tr>\n",
       "      <th>7</th>\n",
       "      <td>internet_serviceclassVec_Fiber optic</td>\n",
       "      <td>9</td>\n",
       "      <td>0.144560</td>\n",
       "    </tr>\n",
       "    <tr>\n",
       "      <th>21</th>\n",
       "      <td>monthly_charges</td>\n",
       "      <td>0</td>\n",
       "      <td>0.129179</td>\n",
       "    </tr>\n",
       "    <tr>\n",
       "      <th>18</th>\n",
       "      <td>payment_methodclassVec_Electronic check</td>\n",
       "      <td>20</td>\n",
       "      <td>0.095273</td>\n",
       "    </tr>\n",
       "    <tr>\n",
       "      <th>16</th>\n",
       "      <td>contractclassVec_Two year</td>\n",
       "      <td>18</td>\n",
       "      <td>0.063349</td>\n",
       "    </tr>\n",
       "    <tr>\n",
       "      <th>9</th>\n",
       "      <td>online_securityclassVec_No</td>\n",
       "      <td>11</td>\n",
       "      <td>0.033914</td>\n",
       "    </tr>\n",
       "    <tr>\n",
       "      <th>8</th>\n",
       "      <td>internet_serviceclassVec_DSL</td>\n",
       "      <td>10</td>\n",
       "      <td>0.016387</td>\n",
       "    </tr>\n",
       "    <tr>\n",
       "      <th>17</th>\n",
       "      <td>paperless_billingclassVec_Yes</td>\n",
       "      <td>19</td>\n",
       "      <td>0.015341</td>\n",
       "    </tr>\n",
       "    <tr>\n",
       "      <th>10</th>\n",
       "      <td>online_backupclassVec_No</td>\n",
       "      <td>12</td>\n",
       "      <td>0.014167</td>\n",
       "    </tr>\n",
       "    <tr>\n",
       "      <th>1</th>\n",
       "      <td>senior_citizenclassVec_0</td>\n",
       "      <td>3</td>\n",
       "      <td>0.013209</td>\n",
       "    </tr>\n",
       "    <tr>\n",
       "      <th>2</th>\n",
       "      <td>partnerclassVec_No</td>\n",
       "      <td>4</td>\n",
       "      <td>0.012052</td>\n",
       "    </tr>\n",
       "    <tr>\n",
       "      <th>4</th>\n",
       "      <td>phone_serviceclassVec_Yes</td>\n",
       "      <td>6</td>\n",
       "      <td>0.011527</td>\n",
       "    </tr>\n",
       "    <tr>\n",
       "      <th>12</th>\n",
       "      <td>tech_supportclassVec_No</td>\n",
       "      <td>14</td>\n",
       "      <td>0.008682</td>\n",
       "    </tr>\n",
       "    <tr>\n",
       "      <th>20</th>\n",
       "      <td>payment_methodclassVec_Credit card (automatic)</td>\n",
       "      <td>22</td>\n",
       "      <td>0.006165</td>\n",
       "    </tr>\n",
       "    <tr>\n",
       "      <th>19</th>\n",
       "      <td>payment_methodclassVec_Mailed check</td>\n",
       "      <td>21</td>\n",
       "      <td>0.005686</td>\n",
       "    </tr>\n",
       "    <tr>\n",
       "      <th>14</th>\n",
       "      <td>streaming_moviesclassVec_No</td>\n",
       "      <td>16</td>\n",
       "      <td>0.004544</td>\n",
       "    </tr>\n",
       "    <tr>\n",
       "      <th>5</th>\n",
       "      <td>multiple_linesclassVec_No</td>\n",
       "      <td>7</td>\n",
       "      <td>0.003940</td>\n",
       "    </tr>\n",
       "    <tr>\n",
       "      <th>3</th>\n",
       "      <td>dependentsclassVec_No</td>\n",
       "      <td>5</td>\n",
       "      <td>0.002845</td>\n",
       "    </tr>\n",
       "    <tr>\n",
       "      <th>11</th>\n",
       "      <td>device_protectionclassVec_No</td>\n",
       "      <td>13</td>\n",
       "      <td>0.001073</td>\n",
       "    </tr>\n",
       "    <tr>\n",
       "      <th>6</th>\n",
       "      <td>multiple_linesclassVec_Yes</td>\n",
       "      <td>8</td>\n",
       "      <td>0.000603</td>\n",
       "    </tr>\n",
       "    <tr>\n",
       "      <th>13</th>\n",
       "      <td>streaming_tvclassVec_No</td>\n",
       "      <td>15</td>\n",
       "      <td>0.000078</td>\n",
       "    </tr>\n",
       "    <tr>\n",
       "      <th>0</th>\n",
       "      <td>genderclassVec_Male</td>\n",
       "      <td>2</td>\n",
       "      <td>0.000000</td>\n",
       "    </tr>\n",
       "  </tbody>\n",
       "</table>\n",
       "</div>"
      ],
      "text/plain": [
       "                                              name  idx  importance_score\n",
       "22                                   total_charges    1          0.233650\n",
       "15                 contractclassVec_Month-to-month   17          0.183778\n",
       "7             internet_serviceclassVec_Fiber optic    9          0.144560\n",
       "21                                 monthly_charges    0          0.129179\n",
       "18         payment_methodclassVec_Electronic check   20          0.095273\n",
       "16                       contractclassVec_Two year   18          0.063349\n",
       "9                       online_securityclassVec_No   11          0.033914\n",
       "8                     internet_serviceclassVec_DSL   10          0.016387\n",
       "17                   paperless_billingclassVec_Yes   19          0.015341\n",
       "10                        online_backupclassVec_No   12          0.014167\n",
       "1                         senior_citizenclassVec_0    3          0.013209\n",
       "2                               partnerclassVec_No    4          0.012052\n",
       "4                        phone_serviceclassVec_Yes    6          0.011527\n",
       "12                         tech_supportclassVec_No   14          0.008682\n",
       "20  payment_methodclassVec_Credit card (automatic)   22          0.006165\n",
       "19             payment_methodclassVec_Mailed check   21          0.005686\n",
       "14                     streaming_moviesclassVec_No   16          0.004544\n",
       "5                        multiple_linesclassVec_No    7          0.003940\n",
       "3                            dependentsclassVec_No    5          0.002845\n",
       "11                    device_protectionclassVec_No   13          0.001073\n",
       "6                       multiple_linesclassVec_Yes    8          0.000603\n",
       "13                         streaming_tvclassVec_No   15          0.000078\n",
       "0                              genderclassVec_Male    2          0.000000"
      ]
     },
     "execution_count": 26,
     "metadata": {},
     "output_type": "execute_result"
    }
   ],
   "source": [
    "# 13c. Print feature importance\n",
    "fnExtractFeatureImportance(pipelineModel.stages[-1].featureImportances, predictionsDF, \"features\")\n"
   ]
  },
  {
   "cell_type": "code",
   "execution_count": 27,
   "metadata": {
    "tags": []
   },
   "outputs": [],
   "source": [
    "# 13d. Capture into a Pandas DF\n",
    "featureImportantcePDF = fnExtractFeatureImportance(pipelineModel.stages[-1].featureImportances, predictionsDF, \"features\")\n"
   ]
  },
  {
   "cell_type": "code",
   "execution_count": 28,
   "metadata": {
    "tags": []
   },
   "outputs": [
    {
     "name": "stdout",
     "output_type": "stream",
     "text": [
      "+--------------------+----------+-------------------+-----------+-------------+---------------------+---------+\n",
      "|       feature_index|feature_nm|   importance_score|pipeline_id|model_version|pipeline_execution_dt|operation|\n",
      "+--------------------+----------+-------------------+-----------+-------------+---------------------+---------+\n",
      "|       total_charges|         1|0.23364955448527888|       4244|         4244|       20240603065934| training|\n",
      "|contractclassVec_...|        17|0.18377782190175462|       4244|         4244|       20240603065934| training|\n",
      "+--------------------+----------+-------------------+-----------+-------------+---------------------+---------+\n",
      "only showing top 2 rows\n",
      "\n"
     ]
    },
    {
     "name": "stderr",
     "output_type": "stream",
     "text": [
      "                                                                                \r"
     ]
    }
   ],
   "source": [
    "# 13e. Persist feature importance scores to BigQuery\n",
    "# Convert Pandas to Spark DF & use Spark to persist\n",
    "featureImportantceDF = spark.createDataFrame(featureImportantcePDF).toDF(\"feature_index\",\"feature_nm\",\"importance_score\")\n",
    "\n",
    "persistFeatureImportanceDF = featureImportantceDF.withColumn(\"pipeline_id\", lit(pipelineID).cast(\"string\")) \\\n",
    "                                   .withColumn(\"model_version\", lit(pipelineID).cast(\"string\")) \\\n",
    "                                   .withColumn(\"pipeline_execution_dt\", lit(pipelineExecutionDt)) \\\n",
    "                                   .withColumn(\"operation\", lit(operation)) \n",
    "\n",
    "persistFeatureImportanceDF.show(2)\n",
    "\n",
    "persistFeatureImportanceDF.write.format('bigquery') \\\n",
    ".mode(\"overwrite\")\\\n",
    ".option('table', bigQueryFeatureImportanceTableFQN) \\\n",
    ".save()"
   ]
  },
  {
   "cell_type": "markdown",
   "metadata": {},
   "source": [
    "### MODEL EVALUATION"
   ]
  },
  {
   "cell_type": "code",
   "execution_count": 29,
   "metadata": {
    "tags": []
   },
   "outputs": [],
   "source": [
    "# 14a. Metrics parsing function\n",
    "def fnParseModelMetrics(predictionsDF, labelColumn, operation, boolSubsetOnly):\n",
    "    \"\"\"\n",
    "    Get model metrics\n",
    "    Args:\n",
    "        predictions: predictions\n",
    "        labelColumn: target column\n",
    "        operation: train or test\n",
    "        boolSubsetOnly: boolean for partial(without true, score, prediction) or full metrics \n",
    "    Returns:\n",
    "        metrics: metrics\n",
    "        \n",
    "    Anagha TODO: This function if called from common_utils fails; Need to researchy why\n",
    "    \"\"\"\n",
    "    \n",
    "    metricLabels = ['area_roc', 'area_prc', 'accuracy', 'f1', 'precision', 'recall']\n",
    "    metricColumns = ['true', 'score', 'prediction']\n",
    "    metricKeys = [f'{operation}_{ml}' for ml in metricLabels] + metricColumns\n",
    "\n",
    "    # Instantiate evaluators\n",
    "    bcEvaluator = BinaryClassificationEvaluator(labelCol=labelColumn)\n",
    "    mcEvaluator = MulticlassClassificationEvaluator(labelCol=labelColumn)\n",
    "\n",
    "    # Capture metrics -> areas, acc, f1, prec, rec\n",
    "    area_roc = round(bcEvaluator.evaluate(predictionsDF, {bcEvaluator.metricName: 'areaUnderROC'}), 5)\n",
    "    area_prc = round(bcEvaluator.evaluate(predictionsDF, {bcEvaluator.metricName: 'areaUnderPR'}), 5)\n",
    "    acc = round(mcEvaluator.evaluate(predictionsDF, {mcEvaluator.metricName: \"accuracy\"}), 5)\n",
    "    f1 = round(mcEvaluator.evaluate(predictionsDF, {mcEvaluator.metricName: \"f1\"}), 5)\n",
    "    prec = round(mcEvaluator.evaluate(predictionsDF, {mcEvaluator.metricName: \"weightedPrecision\"}), 5)\n",
    "    rec = round(mcEvaluator.evaluate(predictionsDF, {mcEvaluator.metricName: \"weightedRecall\"}), 5)\n",
    "\n",
    "    # Get the true, score, prediction off of the test results dataframe\n",
    "    rocDictionary = common_utils.fnGetTrueScoreAndPrediction(predictionsDF, labelColumn)\n",
    "    true = rocDictionary['true']\n",
    "    score = rocDictionary['score']\n",
    "    prediction = rocDictionary['prediction']\n",
    "\n",
    "    # Create a metric values array\n",
    "    metricValuesArray = []\n",
    "    if boolSubsetOnly:\n",
    "        metricValuesArray.extend((area_roc, area_prc, acc, f1, prec, rec))\n",
    "    else:\n",
    "        metricValuesArray.extend((area_roc, area_prc, acc, f1, prec, rec, true, score, prediction))\n",
    "    \n",
    "    # Zip the keys and values into a dictionary  \n",
    "    metricsDictionary = dict(zip(metricKeys, metricValuesArray))\n",
    "\n",
    "    return metricsDictionary\n"
   ]
  },
  {
   "cell_type": "code",
   "execution_count": 30,
   "metadata": {
    "tags": []
   },
   "outputs": [
    {
     "name": "stderr",
     "output_type": "stream",
     "text": [
      "                                                                                \r"
     ]
    },
    {
     "name": "stdout",
     "output_type": "stream",
     "text": [
      "+----+-------+----------+\n",
      "|true|  score|prediction|\n",
      "+----+-------+----------+\n",
      "| 1.0|0.53845|       1.0|\n",
      "| 1.0|0.57284|       1.0|\n",
      "+----+-------+----------+\n",
      "only showing top 2 rows\n",
      "\n"
     ]
    },
    {
     "name": "stderr",
     "output_type": "stream",
     "text": [
      "[Stage 527:>                                                        (0 + 1) / 1]\r"
     ]
    },
    {
     "name": "stdout",
     "output_type": "stream",
     "text": [
      "test_area_roc: 0.85105\n",
      "test_area_prc: 0.66582\n",
      "test_accuracy: 0.81228\n",
      "test_f1: 0.78894\n",
      "test_precision: 0.80211\n",
      "test_recall: 0.81228\n"
     ]
    },
    {
     "name": "stderr",
     "output_type": "stream",
     "text": [
      "                                                                                \r"
     ]
    }
   ],
   "source": [
    "# 14b. Capture & display metrics\n",
    "modelMetrics = fnParseModelMetrics(predictionsDF, \"label\", \"test\", True)\n",
    "for m, v in modelMetrics.items():\n",
    "    print(f'{m}: {v}')\n",
    "    "
   ]
  },
  {
   "cell_type": "code",
   "execution_count": 31,
   "metadata": {
    "tags": []
   },
   "outputs": [],
   "source": [
    "# 14c. Persist metrics subset to GCS\n",
    "blobName = f\"{modelBaseNm}/{operation}/{modelVersion}/subset/metrics.json\"\n",
    "common_utils.fnPersistMetrics(urlparse(metricsBucketUri).netloc, modelMetrics, blobName)\n"
   ]
  },
  {
   "cell_type": "code",
   "execution_count": 32,
   "metadata": {
    "tags": []
   },
   "outputs": [
    {
     "name": "stderr",
     "output_type": "stream",
     "text": [
      "                                                                                \r"
     ]
    },
    {
     "name": "stdout",
     "output_type": "stream",
     "text": [
      "+----+-------+----------+\n",
      "|true|  score|prediction|\n",
      "+----+-------+----------+\n",
      "| 1.0|0.53845|       1.0|\n",
      "| 1.0|0.57284|       1.0|\n",
      "+----+-------+----------+\n",
      "only showing top 2 rows\n",
      "\n"
     ]
    },
    {
     "name": "stderr",
     "output_type": "stream",
     "text": [
      "[Stage 558:>                                                        (0 + 1) / 1]\r"
     ]
    },
    {
     "name": "stdout",
     "output_type": "stream",
     "text": [
      "customer-churn-model/training/4244/full/metrics.json\n",
      "test_area_roc: 0.85105\n",
      "test_area_prc: 0.66582\n",
      "test_accuracy: 0.81228\n",
      "test_f1: 0.78894\n",
      "test_precision: 0.80211\n",
      "test_recall: 0.81228\n",
      "true: [1.0, 1.0, 0.0, 0.0, 0.0, 0.0, 0.0, 0.0, 0.0, 0.0, 0.0, 0.0, 0.0, 0.0, 0.0, 0.0, 0.0, 1.0, 1.0, 0.0, 0.0, 0.0, 0.0, 0.0, 0.0, 0.0, 0.0, 0.0, 1.0, 0.0, 0.0, 1.0, 0.0, 0.0, 0.0, 0.0, 0.0, 0.0, 0.0, 0.0, 0.0, 1.0, 1.0, 0.0, 1.0, 0.0, 0.0, 1.0, 0.0, 0.0, 0.0, 0.0, 0.0, 0.0, 0.0, 0.0, 0.0, 1.0, 0.0, 1.0, 0.0, 0.0, 0.0, 0.0, 0.0, 0.0, 0.0, 0.0, 1.0, 0.0, 0.0, 1.0, 0.0, 1.0, 0.0, 1.0, 0.0, 1.0, 0.0, 0.0, 0.0, 0.0, 0.0, 0.0, 0.0, 0.0, 0.0, 0.0, 0.0, 0.0, 1.0, 0.0, 0.0, 0.0, 0.0, 0.0, 0.0, 0.0, 1.0, 1.0, 0.0, 0.0, 0.0, 0.0, 0.0, 1.0, 0.0, 1.0, 0.0, 0.0, 0.0, 0.0, 0.0, 1.0, 0.0, 0.0, 0.0, 0.0, 0.0, 1.0, 1.0, 0.0, 0.0, 1.0, 0.0, 0.0, 0.0, 1.0, 0.0, 0.0, 0.0, 0.0, 0.0, 0.0, 1.0, 0.0, 0.0, 0.0, 1.0, 0.0, 0.0, 0.0, 0.0, 1.0, 0.0, 0.0, 0.0, 1.0, 0.0, 0.0, 0.0, 1.0, 1.0, 0.0, 0.0, 0.0, 0.0, 0.0, 0.0, 0.0, 0.0, 0.0, 0.0, 0.0, 0.0, 1.0, 0.0, 0.0, 0.0, 1.0, 0.0, 0.0, 0.0, 0.0, 0.0, 0.0, 0.0, 1.0, 0.0, 0.0, 0.0, 0.0, 1.0, 0.0, 0.0, 1.0, 0.0, 1.0, 1.0, 0.0, 0.0, 1.0, 0.0, 0.0, 1.0, 1.0, 0.0, 0.0, 0.0, 0.0, 0.0, 0.0, 1.0, 0.0, 0.0, 0.0, 0.0, 1.0, 0.0, 1.0, 0.0, 0.0, 0.0, 0.0, 1.0, 0.0, 0.0, 0.0, 0.0, 0.0, 0.0, 1.0, 1.0, 0.0, 0.0, 0.0, 0.0, 0.0, 1.0, 0.0, 1.0, 0.0, 0.0, 1.0, 0.0, 0.0, 1.0, 1.0, 0.0, 0.0, 1.0, 1.0, 0.0, 1.0, 1.0, 0.0, 0.0, 1.0, 0.0, 0.0, 1.0, 0.0, 0.0, 0.0, 1.0, 1.0, 0.0, 1.0, 0.0, 0.0, 0.0, 0.0, 0.0, 0.0, 0.0, 0.0, 0.0, 0.0, 1.0, 1.0, 0.0, 1.0, 0.0, 0.0, 1.0, 1.0, 1.0, 0.0, 1.0, 1.0, 1.0, 1.0, 0.0, 0.0, 0.0, 1.0, 0.0, 0.0, 0.0, 0.0, 0.0, 1.0, 1.0, 0.0, 0.0, 0.0, 0.0, 1.0, 1.0, 0.0, 1.0, 0.0, 0.0, 0.0, 0.0, 1.0, 0.0, 0.0, 0.0, 0.0, 0.0, 0.0, 0.0, 0.0, 0.0, 1.0, 0.0, 0.0, 1.0, 1.0, 1.0, 0.0, 0.0, 0.0, 0.0, 0.0, 0.0, 1.0, 0.0, 0.0, 0.0, 0.0, 0.0, 0.0, 1.0, 0.0, 0.0, 0.0, 0.0, 0.0, 0.0, 0.0, 0.0, 1.0, 0.0, 0.0, 0.0, 0.0, 0.0, 0.0, 0.0, 0.0, 0.0, 0.0, 0.0, 1.0, 0.0, 0.0, 0.0, 0.0, 0.0, 0.0, 0.0, 0.0, 0.0, 1.0, 1.0, 0.0, 0.0, 1.0, 0.0, 0.0, 0.0, 0.0, 1.0, 0.0, 0.0, 0.0, 0.0, 0.0, 0.0, 0.0, 0.0, 0.0, 0.0, 1.0, 1.0, 0.0, 1.0, 0.0, 0.0, 1.0, 1.0, 0.0, 0.0, 0.0, 0.0, 1.0, 0.0, 0.0, 0.0, 0.0, 1.0, 0.0, 1.0, 1.0, 0.0, 1.0, 0.0, 0.0, 0.0, 0.0, 0.0, 0.0, 0.0, 0.0, 0.0, 0.0, 1.0, 0.0, 0.0, 1.0, 1.0, 0.0, 1.0, 1.0, 0.0, 0.0, 1.0, 0.0, 0.0, 0.0, 0.0, 1.0, 0.0, 0.0, 1.0, 0.0, 0.0, 1.0, 0.0, 0.0, 0.0, 0.0, 0.0, 0.0, 0.0, 0.0, 0.0, 0.0, 0.0, 0.0, 1.0, 0.0, 1.0, 0.0, 0.0, 1.0, 1.0, 0.0, 0.0, 0.0, 0.0, 1.0, 0.0, 1.0, 0.0, 0.0, 0.0, 0.0, 0.0, 0.0, 0.0, 1.0, 0.0, 0.0, 0.0, 0.0, 0.0, 1.0, 0.0, 1.0, 0.0, 0.0, 0.0, 0.0, 0.0, 0.0, 0.0, 0.0, 1.0, 0.0, 1.0, 0.0, 1.0, 1.0, 0.0, 0.0, 0.0, 1.0, 1.0, 0.0, 1.0, 1.0, 0.0, 0.0, 0.0, 0.0, 0.0, 0.0, 0.0, 1.0, 0.0, 0.0, 0.0, 0.0, 0.0, 0.0, 1.0, 0.0, 0.0, 1.0, 0.0, 0.0, 1.0, 0.0, 0.0, 0.0, 0.0, 0.0, 0.0, 0.0, 0.0, 0.0, 0.0, 0.0, 1.0, 1.0, 0.0, 0.0, 1.0, 0.0, 0.0, 0.0, 0.0, 1.0, 0.0, 0.0, 1.0, 0.0, 1.0, 0.0, 1.0, 0.0, 1.0, 0.0, 0.0, 1.0, 0.0, 0.0, 0.0, 0.0, 1.0, 1.0, 0.0, 1.0, 0.0, 1.0, 0.0, 0.0, 0.0, 1.0, 0.0, 1.0, 1.0, 0.0, 0.0, 0.0, 0.0, 0.0, 0.0, 0.0, 0.0, 0.0, 0.0, 0.0, 0.0, 0.0, 0.0, 0.0, 0.0, 0.0, 0.0, 1.0, 0.0, 0.0, 0.0, 0.0, 0.0, 0.0, 1.0, 0.0, 0.0, 1.0, 0.0, 0.0, 0.0, 0.0, 1.0, 0.0, 0.0, 1.0, 1.0, 0.0, 1.0, 0.0, 1.0, 0.0, 1.0, 0.0, 0.0, 0.0, 0.0, 1.0, 0.0, 0.0, 0.0, 0.0, 1.0, 0.0, 0.0, 1.0, 1.0, 0.0, 0.0, 0.0, 0.0, 0.0, 0.0, 1.0, 1.0, 0.0, 0.0, 0.0, 0.0, 0.0, 0.0, 0.0, 0.0, 0.0, 1.0, 1.0, 1.0, 0.0, 0.0, 0.0, 0.0, 1.0, 1.0, 0.0, 0.0, 0.0, 0.0, 1.0, 1.0, 0.0, 1.0, 1.0, 0.0, 0.0, 0.0, 0.0, 0.0, 0.0, 0.0, 0.0, 0.0, 0.0, 0.0, 1.0, 0.0, 0.0, 1.0, 0.0, 0.0, 0.0, 0.0, 0.0, 0.0, 0.0, 1.0, 0.0, 0.0, 1.0, 0.0, 0.0, 1.0, 0.0, 0.0, 0.0, 0.0, 0.0, 1.0, 0.0, 1.0, 0.0, 0.0, 0.0, 0.0, 0.0, 1.0, 0.0, 0.0, 0.0, 1.0, 1.0, 1.0, 0.0, 1.0, 0.0, 0.0, 1.0, 0.0, 0.0, 0.0, 1.0, 0.0, 0.0, 0.0, 0.0, 0.0, 1.0, 0.0, 0.0, 1.0, 0.0, 0.0, 0.0, 1.0, 0.0, 1.0, 0.0, 0.0, 0.0, 0.0, 0.0, 0.0, 0.0, 1.0, 0.0, 0.0, 0.0, 0.0, 0.0, 0.0, 0.0, 1.0, 1.0, 0.0, 0.0, 0.0, 1.0, 0.0, 1.0, 0.0, 0.0, 0.0, 0.0, 1.0, 0.0, 0.0, 0.0, 0.0, 0.0, 1.0, 0.0, 0.0, 1.0, 0.0, 0.0, 1.0, 0.0, 0.0, 0.0, 0.0, 0.0, 0.0, 0.0, 1.0, 1.0, 0.0, 0.0, 0.0, 1.0, 0.0, 0.0, 0.0, 0.0, 1.0, 0.0, 0.0, 0.0, 0.0, 1.0, 0.0, 1.0, 0.0, 0.0, 1.0, 0.0, 0.0, 0.0, 0.0, 1.0, 0.0, 0.0, 0.0, 0.0, 1.0, 0.0, 1.0, 1.0, 1.0, 0.0, 0.0, 1.0, 1.0, 1.0, 0.0, 0.0, 0.0, 0.0, 0.0, 1.0, 1.0, 0.0, 0.0, 0.0, 0.0, 0.0, 1.0, 0.0, 0.0, 0.0, 0.0, 0.0, 0.0, 1.0, 0.0, 0.0, 0.0, 1.0, 0.0, 0.0, 0.0, 0.0, 0.0, 1.0, 0.0, 0.0, 0.0, 0.0, 0.0, 0.0, 1.0, 1.0, 0.0, 1.0, 0.0, 0.0, 0.0, 0.0, 0.0, 1.0, 0.0, 0.0, 0.0, 1.0, 0.0, 0.0, 0.0, 0.0, 1.0, 0.0, 1.0, 1.0, 0.0, 0.0, 0.0, 0.0, 0.0, 0.0, 1.0, 0.0, 0.0, 0.0, 0.0, 0.0, 0.0, 0.0, 0.0, 0.0, 0.0, 0.0, 0.0, 0.0, 0.0, 1.0, 0.0, 0.0, 0.0, 0.0, 1.0, 0.0, 0.0, 1.0, 1.0, 0.0, 0.0, 0.0, 0.0, 1.0, 1.0, 0.0, 0.0, 1.0, 0.0, 1.0, 0.0, 0.0, 0.0, 0.0, 0.0, 0.0, 1.0, 0.0, 0.0, 0.0, 0.0, 1.0, 0.0, 0.0, 0.0, 1.0, 1.0, 0.0, 0.0, 0.0, 0.0, 0.0, 0.0, 0.0, 1.0, 1.0, 0.0, 0.0, 0.0, 0.0, 1.0, 0.0, 0.0, 0.0, 0.0, 0.0, 0.0, 0.0, 0.0, 0.0, 0.0, 0.0, 1.0, 0.0, 0.0, 0.0, 0.0, 1.0, 0.0, 0.0, 0.0, 1.0, 0.0, 0.0, 0.0, 1.0, 0.0, 0.0, 0.0, 0.0, 0.0, 0.0, 0.0, 1.0, 0.0, 0.0, 1.0, 0.0, 0.0, 0.0, 1.0, 1.0, 0.0, 0.0, 0.0, 0.0, 1.0, 1.0, 1.0, 0.0, 0.0, 0.0, 0.0, 0.0, 0.0, 0.0, 1.0, 0.0, 1.0, 0.0, 0.0, 1.0, 0.0, 0.0, 0.0, 0.0, 0.0, 1.0, 0.0, 0.0, 1.0, 0.0, 0.0, 0.0, 0.0, 0.0, 0.0, 0.0, 1.0, 0.0, 0.0, 1.0, 1.0, 0.0, 0.0, 0.0, 0.0, 0.0, 0.0, 0.0, 0.0, 0.0, 0.0, 1.0, 0.0, 0.0, 0.0, 0.0, 0.0, 0.0, 0.0, 0.0, 0.0, 0.0, 0.0, 0.0, 0.0, 0.0, 0.0, 1.0, 0.0, 0.0, 0.0, 0.0, 0.0, 0.0, 0.0, 0.0, 0.0, 1.0, 1.0, 1.0, 0.0, 1.0, 0.0, 0.0, 0.0, 0.0, 0.0, 0.0, 0.0, 0.0, 0.0, 0.0, 0.0, 1.0, 0.0, 0.0, 1.0, 0.0, 1.0, 0.0, 0.0, 0.0, 0.0, 0.0, 0.0, 0.0, 0.0, 1.0, 0.0, 1.0, 1.0, 0.0, 1.0, 0.0, 1.0, 1.0, 0.0, 0.0, 0.0, 0.0, 1.0, 0.0, 1.0, 1.0, 1.0, 0.0, 0.0, 0.0, 1.0, 0.0, 0.0, 0.0, 0.0, 0.0, 1.0, 1.0, 0.0, 1.0, 0.0, 0.0, 0.0, 0.0, 1.0, 0.0, 0.0, 0.0, 0.0, 0.0, 0.0, 0.0, 0.0, 0.0, 0.0, 1.0, 0.0, 0.0, 0.0, 0.0, 0.0, 0.0, 0.0, 0.0, 1.0, 0.0, 1.0, 0.0, 0.0, 0.0, 0.0, 1.0, 0.0, 0.0, 0.0, 1.0, 0.0, 0.0, 0.0, 0.0, 0.0, 0.0, 0.0, 0.0, 1.0, 0.0, 0.0, 0.0, 1.0, 1.0, 0.0, 1.0, 0.0, 0.0, 1.0, 0.0, 0.0, 1.0, 1.0, 1.0, 0.0, 1.0, 0.0, 0.0, 0.0, 0.0, 0.0, 0.0, 0.0, 1.0, 0.0, 0.0, 0.0, 0.0, 0.0, 0.0, 0.0, 0.0, 0.0, 0.0, 0.0, 1.0, 0.0, 0.0, 0.0, 0.0, 0.0, 1.0, 0.0, 1.0, 1.0, 0.0, 0.0, 0.0, 0.0, 0.0, 1.0, 1.0, 1.0, 0.0, 1.0, 0.0, 0.0, 0.0, 0.0, 0.0, 0.0, 1.0, 0.0, 0.0, 1.0, 0.0, 0.0, 0.0, 0.0, 0.0, 1.0, 0.0, 1.0, 0.0, 0.0, 1.0, 0.0, 0.0, 1.0, 0.0, 0.0, 0.0, 1.0, 0.0, 0.0, 0.0, 1.0, 1.0, 0.0, 0.0, 0.0, 0.0, 0.0, 0.0, 0.0, 0.0, 0.0, 0.0, 0.0, 1.0, 0.0, 0.0, 0.0, 0.0, 1.0, 0.0, 0.0, 1.0, 0.0, 0.0, 0.0, 0.0, 0.0, 0.0, 1.0, 0.0, 0.0, 0.0, 0.0, 0.0, 0.0, 1.0, 0.0, 1.0, 0.0, 0.0, 0.0, 0.0, 0.0, 0.0, 0.0, 1.0, 1.0, 1.0, 0.0, 0.0, 0.0, 0.0, 0.0, 0.0, 1.0, 1.0, 0.0, 0.0, 0.0, 0.0, 0.0, 1.0, 0.0, 1.0, 1.0, 0.0, 0.0, 1.0, 1.0, 0.0, 0.0, 1.0, 0.0, 0.0, 1.0, 0.0, 1.0, 0.0, 1.0, 1.0, 1.0, 0.0, 0.0, 0.0, 0.0, 0.0, 0.0, 0.0, 0.0, 0.0, 1.0, 0.0, 0.0, 0.0, 1.0, 1.0, 0.0, 0.0, 0.0, 0.0, 1.0, 0.0, 1.0, 1.0, 0.0, 0.0, 0.0, 0.0, 0.0, 0.0, 0.0, 0.0, 1.0, 0.0, 0.0, 0.0, 1.0, 1.0, 0.0, 1.0, 0.0, 0.0, 1.0, 0.0, 0.0, 0.0, 0.0, 0.0, 0.0, 0.0, 0.0, 0.0, 0.0, 0.0, 0.0, 0.0, 0.0, 0.0, 0.0, 0.0, 0.0, 0.0, 0.0, 0.0, 0.0, 0.0, 0.0, 1.0, 0.0, 1.0, 0.0, 0.0, 0.0, 0.0, 0.0, 0.0, 1.0, 0.0, 0.0, 1.0, 1.0, 0.0, 0.0, 0.0, 0.0, 0.0, 0.0, 0.0, 0.0, 0.0, 1.0, 0.0, 0.0, 1.0, 0.0, 0.0, 0.0, 1.0, 0.0]\n",
      "score: [0.53845, 0.57284, 0.11941, 0.44742, 0.21394, 0.18752, 0.11032, 0.312, 0.12955, 0.29743, 0.46371, 0.28347, 0.15379, 0.41985, 0.13386, 0.18616, 0.12955, 0.46647, 0.21394, 0.11203, 0.45294, 0.11032, 0.29794, 0.13485, 0.12221, 0.12627, 0.54721, 0.10805, 0.66637, 0.20112, 0.13442, 0.59059, 0.284, 0.25985, 0.11941, 0.12621, 0.18575, 0.26604, 0.16571, 0.22578, 0.21776, 0.49418, 0.37429, 0.16381, 0.60752, 0.11172, 0.10759, 0.52237, 0.10986, 0.11032, 0.42655, 0.34348, 0.16701, 0.1398, 0.24241, 0.19756, 0.14668, 0.33825, 0.11032, 0.6421, 0.33218, 0.11032, 0.22398, 0.20231, 0.13126, 0.11032, 0.11949, 0.11941, 0.39538, 0.23271, 0.19957, 0.312, 0.14197, 0.36186, 0.11032, 0.58762, 0.21327, 0.47898, 0.14937, 0.10986, 0.42879, 0.10976, 0.11032, 0.24803, 0.40019, 0.55534, 0.11032, 0.11032, 0.15381, 0.34155, 0.3159, 0.15518, 0.17895, 0.15854, 0.17111, 0.21616, 0.16325, 0.419, 0.64003, 0.22684, 0.19611, 0.18575, 0.23039, 0.15188, 0.13376, 0.58272, 0.11767, 0.20708, 0.11032, 0.18209, 0.16148, 0.11203, 0.3271, 0.56777, 0.10986, 0.21964, 0.11215, 0.17895, 0.23907, 0.47815, 0.53876, 0.12909, 0.11941, 0.45655, 0.36461, 0.10986, 0.17895, 0.48372, 0.32305, 0.12352, 0.19611, 0.14846, 0.21554, 0.15605, 0.71238, 0.11715, 0.11995, 0.11941, 0.19768, 0.30469, 0.13126, 0.12832, 0.23133, 0.51281, 0.43834, 0.17854, 0.13126, 0.11032, 0.10986, 0.21394, 0.11032, 0.57103, 0.70585, 0.11032, 0.52689, 0.12955, 0.21641, 0.17983, 0.18534, 0.13721, 0.17764, 0.25464, 0.19765, 0.19854, 0.42829, 0.2592, 0.09827, 0.12909, 0.12175, 0.14668, 0.19267, 0.17622, 0.25653, 0.11032, 0.11032, 0.19854, 0.5092, 0.23356, 0.19977, 0.11356, 0.14542, 0.2067, 0.43238, 0.19791, 0.11203, 0.32898, 0.63738, 0.35234, 0.46121, 0.14558, 0.12955, 0.18357, 0.11941, 0.11032, 0.29749, 0.68182, 0.14044, 0.15217, 0.31408, 0.10986, 0.45484, 0.19081, 0.66148, 0.18048, 0.1398, 0.28347, 0.17356, 0.68134, 0.50709, 0.63904, 0.34969, 0.12955, 0.12955, 0.13753, 0.7068, 0.23307, 0.36565, 0.15625, 0.14108, 0.12434, 0.18687, 0.71238, 0.53876, 0.21532, 0.42655, 0.12975, 0.14905, 0.21034, 0.39159, 0.13954, 0.48007, 0.12955, 0.12955, 0.27073, 0.18325, 0.16571, 0.52207, 0.52201, 0.11032, 0.30171, 0.27073, 0.43522, 0.2055, 0.59741, 0.42655, 0.20047, 0.10986, 0.48734, 0.50925, 0.15842, 0.16837, 0.18912, 0.17661, 0.11032, 0.40259, 0.61838, 0.1714, 0.4026, 0.12955, 0.38464, 0.12955, 0.12975, 0.18752, 0.38814, 0.24804, 0.21303, 0.18548, 0.11032, 0.69509, 0.69593, 0.11202, 0.68951, 0.24557, 0.15076, 0.44297, 0.50728, 0.4222, 0.30747, 0.43328, 0.53336, 0.66547, 0.50873, 0.17063, 0.22056, 0.14883, 0.5374, 0.37429, 0.13949, 0.14441, 0.67954, 0.14496, 0.42655, 0.21394, 0.10986, 0.18629, 0.1935, 0.12909, 0.33842, 0.56001, 0.12129, 0.53562, 0.2006, 0.1398, 0.30051, 0.14363, 0.62482, 0.34748, 0.14405, 0.21115, 0.54874, 0.20555, 0.14125, 0.14858, 0.39547, 0.32099, 0.2627, 0.12434, 0.46521, 0.45183, 0.16701, 0.20586, 0.22056, 0.16701, 0.13954, 0.11032, 0.37593, 0.14618, 0.70691, 0.16701, 0.35323, 0.36266, 0.34389, 0.22056, 0.1398, 0.13753, 0.10986, 0.11158, 0.18266, 0.11032, 0.17895, 0.213, 0.10805, 0.14027, 0.60191, 0.11032, 0.10489, 0.12909, 0.13325, 0.2923, 0.13721, 0.21553, 0.11941, 0.12434, 0.13617, 0.13216, 0.21459, 0.21394, 0.11032, 0.13081, 0.32305, 0.29521, 0.10353, 0.19498, 0.22091, 0.11032, 0.19391, 0.21694, 0.11032, 0.65347, 0.57503, 0.2417, 0.34502, 0.25073, 0.20201, 0.16701, 0.39977, 0.12721, 0.4215, 0.67413, 0.11203, 0.22056, 0.14795, 0.12955, 0.16504, 0.45484, 0.28171, 0.66055, 0.21472, 0.31093, 0.21319, 0.11032, 0.48992, 0.21694, 0.32108, 0.43478, 0.10986, 0.1823, 0.2822, 0.45405, 0.11222, 0.18591, 0.34652, 0.38292, 0.12661, 0.52356, 0.48398, 0.26105, 0.21339, 0.66055, 0.19768, 0.10986, 0.19977, 0.12955, 0.36561, 0.44093, 0.27101, 0.18274, 0.1317, 0.25813, 0.11259, 0.31059, 0.62845, 0.36244, 0.57421, 0.66866, 0.40181, 0.13495, 0.09827, 0.23878, 0.25006, 0.19262, 0.12615, 0.11032, 0.19356, 0.18575, 0.15053, 0.55606, 0.12909, 0.1815, 0.36804, 0.61305, 0.27259, 0.12434, 0.12318, 0.31498, 0.21163, 0.14831, 0.11032, 0.17895, 0.32126, 0.13135, 0.2011, 0.46061, 0.19976, 0.32108, 0.11032, 0.45721, 0.32209, 0.602, 0.18575, 0.17371, 0.11032, 0.1439, 0.54384, 0.11399, 0.21394, 0.27812, 0.21539, 0.25896, 0.14226, 0.11032, 0.6277, 0.32519, 0.14044, 0.34583, 0.13603, 0.12909, 0.34857, 0.19098, 0.51377, 0.12909, 0.14044, 0.13954, 0.12661, 0.16701, 0.13721, 0.14875, 0.24052, 0.26172, 0.29731, 0.40378, 0.21907, 0.51854, 0.15115, 0.55118, 0.56955, 0.13818, 0.19356, 0.31404, 0.22505, 0.29587, 0.56041, 0.66225, 0.2055, 0.4774, 0.21521, 0.48372, 0.11032, 0.17895, 0.1823, 0.11032, 0.50587, 0.12221, 0.12909, 0.14427, 0.11032, 0.1236, 0.33279, 0.22854, 0.28504, 0.32305, 0.43747, 0.12129, 0.22509, 0.35271, 0.32108, 0.43549, 0.13155, 0.11032, 0.1824, 0.11203, 0.18547, 0.10986, 0.1398, 0.28007, 0.11203, 0.318, 0.52818, 0.22186, 0.18069, 0.22451, 0.19701, 0.17895, 0.22186, 0.12955, 0.5498, 0.17521, 0.34039, 0.48414, 0.44778, 0.65807, 0.19094, 0.4526, 0.35772, 0.21145, 0.14668, 0.11032, 0.58706, 0.12955, 0.11941, 0.22578, 0.44991, 0.20346, 0.57405, 0.10958, 0.52885, 0.09827, 0.29727, 0.12186, 0.1398, 0.2242, 0.21394, 0.6181, 0.34155, 0.25783, 0.12955, 0.37643, 0.34155, 0.11032, 0.11203, 0.21394, 0.10986, 0.09827, 0.19655, 0.1802, 0.12112, 0.17895, 0.18485, 0.17764, 0.10232, 0.15443, 0.51855, 0.39712, 0.41785, 0.11941, 0.11032, 0.13107, 0.49355, 0.5543, 0.30575, 0.40259, 0.32108, 0.14136, 0.13107, 0.48384, 0.22169, 0.15495, 0.11032, 0.34444, 0.31404, 0.17895, 0.33439, 0.66055, 0.21303, 0.54327, 0.11032, 0.46742, 0.20201, 0.2731, 0.26301, 0.70686, 0.11032, 0.18069, 0.37982, 0.11941, 0.13846, 0.1398, 0.12141, 0.27416, 0.14325, 0.23326, 0.66965, 0.34025, 0.13427, 0.18069, 0.1398, 0.33547, 0.14863, 0.13745, 0.46583, 0.6932, 0.23339, 0.17895, 0.38104, 0.30702, 0.10986, 0.27848, 0.21089, 0.11032, 0.16635, 0.46283, 0.69509, 0.51854, 0.11203, 0.25006, 0.2123, 0.42655, 0.20708, 0.57257, 0.50228, 0.18752, 0.25783, 0.10488, 0.47367, 0.19138, 0.14847, 0.27383, 0.56364, 0.12955, 0.23907, 0.12955, 0.13386, 0.12661, 0.10986, 0.18198, 0.12456, 0.14044, 0.41875, 0.15053, 0.18612, 0.11895, 0.12186, 0.51505, 0.44991, 0.11032, 0.12955, 0.16981, 0.38303, 0.12909, 0.11941, 0.46375, 0.14027, 0.11032, 0.42856, 0.31882, 0.18752, 0.47774, 0.1317, 0.17207, 0.41687, 0.21033, 0.11203, 0.34155, 0.24331, 0.45183, 0.11311, 0.4099, 0.10805, 0.38321, 0.11032, 0.31268, 0.54328, 0.13126, 0.14875, 0.20674, 0.47646, 0.34502, 0.11032, 0.17699, 0.2055, 0.10805, 0.16883, 0.37222, 0.27643, 0.10986, 0.63855, 0.11032, 0.12909, 0.12955, 0.2923, 0.25322, 0.69593, 0.43293, 0.11032, 0.24048, 0.41512, 0.12955, 0.17046, 0.15042, 0.47334, 0.35234, 0.1398, 0.11032, 0.15625, 0.15078, 0.32822, 0.11215, 0.14905, 0.27728, 0.20708, 0.64431, 0.13386, 0.37747, 0.11715, 0.22858, 0.12975, 0.18325, 0.20708, 0.22091, 0.29889, 0.10534, 0.56758, 0.1439, 0.17895, 0.11203, 0.13538, 0.26914, 0.17895, 0.7068, 0.18267, 0.09524, 0.22668, 0.12955, 0.31132, 0.31003, 0.3922, 0.44234, 0.39508, 0.21394, 0.14013, 0.13538, 0.11032, 0.32769, 0.13216, 0.11941, 0.14311, 0.16571, 0.19338, 0.18463, 0.33748, 0.18157, 0.1304, 0.18526, 0.55021, 0.12661, 0.18157, 0.54002, 0.11032, 0.38873, 0.318, 0.16701, 0.36163, 0.17895, 0.37617, 0.1398, 0.40312, 0.19356, 0.16092, 0.3581, 0.19756, 0.20569, 0.33748, 0.35911, 0.69859, 0.43478, 0.64561, 0.12975, 0.12352, 0.31508, 0.11032, 0.22132, 0.54836, 0.318, 0.12955, 0.14108, 0.56153, 0.38595, 0.49676, 0.37529, 0.41931, 0.11032, 0.22644, 0.15053, 0.47646, 0.51542, 0.13538, 0.11032, 0.16701, 0.50201, 0.39149, 0.21163, 0.11032, 0.27704, 0.38786, 0.14729, 0.14674, 0.1968, 0.44845, 0.43408, 0.1236, 0.17597, 0.54729, 0.26713, 0.10569, 0.23927, 0.1815, 0.20201, 0.25378, 0.11715, 0.10986, 0.17573, 0.2053, 0.16837, 0.50674, 0.19701, 0.21394, 0.1815, 0.68276, 0.18325, 0.11032, 0.27627, 0.13181, 0.17281, 0.6932, 0.11185, 0.12909, 0.11202, 0.69509, 0.12955, 0.33786, 0.12605, 0.23907, 0.12955, 0.14201, 0.4891, 0.46061, 0.16445, 0.1299, 0.13126, 0.12112, 0.31584, 0.47229, 0.58762, 0.37346, 0.31103, 0.50406, 0.34593, 0.10986, 0.18463, 0.23907, 0.11941, 0.30627, 0.16701, 0.13126, 0.17901, 0.19094, 0.15605, 0.50904, 0.12909, 0.19356, 0.46977, 0.4249, 0.527, 0.11032, 0.15605, 0.62068, 0.45183, 0.22509, 0.25783, 0.45542, 0.10569, 0.60728, 0.29829, 0.16701, 0.19015, 0.67413, 0.19184, 0.58018, 0.358, 0.13753, 0.29829, 0.12955, 0.14372, 0.28092, 0.32456, 0.56228, 0.35828, 0.28974, 0.14863, 0.14381, 0.11885, 0.21871, 0.21394, 0.47572, 0.30041, 0.11032, 0.60158, 0.66055, 0.17046, 0.21394, 0.18835, 0.12112, 0.14044, 0.20735, 0.10986, 0.18321, 0.21371, 0.13491, 0.71144, 0.55528, 0.12955, 0.13495, 0.10986, 0.25801, 0.21394, 0.18321, 0.16701, 0.11032, 0.1398, 0.11311, 0.39439, 0.48164, 0.11032, 0.47898, 0.12955, 0.7068, 0.3033, 0.19501, 0.32108, 0.32182, 0.27309, 0.315, 0.11032, 0.59336, 0.2883, 0.29783, 0.66596, 0.31712, 0.43155, 0.17076, 0.34155, 0.38321, 0.12661, 0.23761, 0.15002, 0.14364, 0.11941, 0.17895, 0.4286, 0.48734, 0.13753, 0.25032, 0.17661, 0.16701, 0.19829, 0.25646, 0.21394, 0.6277, 0.24522, 0.21964, 0.12909, 0.42131, 0.14847, 0.16701, 0.57573, 0.12955, 0.48471, 0.11941, 0.2519, 0.47367, 0.14845, 0.20309, 0.37982, 0.36163, 0.11032, 0.24777, 0.09827, 0.12955, 0.59346, 0.12208, 0.16701, 0.26272, 0.10986, 0.38108, 0.21394, 0.14182, 0.5455, 0.12955, 0.11032, 0.32108, 0.69604, 0.13291, 0.11032, 0.16883, 0.20992, 0.43841, 0.21145, 0.17295, 0.11203, 0.13538, 0.11032, 0.65513, 0.17934, 0.10986, 0.33155, 0.17583, 0.18462, 0.12955, 0.14875, 0.11032, 0.11715, 0.11032, 0.20146, 0.19765, 0.12909, 0.22609, 0.12129, 0.5452, 0.18736, 0.48372, 0.13061, 0.37982, 0.12661, 0.21394, 0.26943, 0.62482, 0.15518, 0.33983, 0.52273, 0.69509, 0.10976, 0.71238, 0.4057, 0.11032, 0.45967, 0.13126, 0.23907, 0.11032, 0.46093, 0.17895, 0.17865, 0.35234, 0.10805, 0.61478, 0.19394, 0.29939, 0.11657, 0.17764, 0.50109, 0.24415, 0.37085, 0.17895, 0.26132, 0.31544, 0.32814, 0.12955, 0.30407, 0.19701, 0.12955, 0.43049, 0.59979, 0.11032, 0.13278, 0.19094, 0.30647, 0.56172, 0.14441, 0.13753, 0.14944, 0.29939, 0.31556, 0.14865, 0.4117, 0.32108, 0.63527, 0.11203, 0.2565, 0.11203, 0.65655, 0.10805, 0.18274, 0.20708, 0.14905, 0.20377, 0.53558, 0.32224, 0.20053, 0.31027, 0.11032, 0.18098, 0.23573, 0.19478, 0.18495, 0.41598, 0.21394, 0.11032, 0.31976, 0.21394, 0.30225, 0.21115, 0.19716, 0.41037, 0.20989, 0.71191, 0.13892, 0.17965, 0.20346, 0.20142, 0.3462, 0.12955, 0.3458, 0.11846, 0.69272, 0.14756, 0.23907, 0.37733, 0.25334, 0.42274, 0.11032, 0.48281, 0.12975, 0.11895, 0.27002, 0.33775, 0.42669, 0.46055, 0.18509, 0.18117, 0.1398, 0.14859, 0.18525, 0.46203, 0.23907, 0.51373, 0.11203, 0.18562, 0.68951, 0.47729, 0.18378, 0.35673, 0.21461, 0.58762, 0.60728, 0.11032, 0.11667, 0.68951, 0.48734, 0.31002, 0.14108, 0.6421, 0.14067, 0.1398, 0.11941, 0.10958, 0.21394, 0.11032, 0.15774, 0.14803, 0.11032, 0.12352, 0.4891, 0.18591, 0.11032, 0.14367, 0.10986, 0.10986, 0.65513, 0.1398, 0.61992, 0.44297, 0.12955, 0.37593, 0.1317, 0.11032, 0.10986, 0.68768, 0.21145, 0.68957, 0.55447, 0.12129, 0.28722, 0.14951, 0.10986, 0.11895, 0.45779, 0.3149, 0.59732, 0.14197, 0.48438, 0.15078, 0.17895, 0.32822, 0.14679, 0.12909, 0.12909, 0.46055, 0.11032, 0.30941, 0.14707, 0.23907, 0.11032, 0.12909, 0.21297, 0.15053, 0.47367, 0.26028, 0.43754, 0.11128, 0.11203, 0.14803, 0.21681, 0.52473, 0.68951, 0.12434, 0.25369, 0.32108, 0.52764, 0.21626, 0.13538, 0.496, 0.24929, 0.38321, 0.3462, 0.28641, 0.11032, 0.41805, 0.19947, 0.16571, 0.18077, 0.13278, 0.1823, 0.21854, 0.13137, 0.30644, 0.11032, 0.11032, 0.35772, 0.18008, 0.18936, 0.12955, 0.13137, 0.37109, 0.37982, 0.13352, 0.53997, 0.39967, 0.11032, 0.43293, 0.27566, 0.1398, 0.18462, 0.13603, 0.13818, 0.26584, 0.1439, 0.2914, 0.19138, 0.21327, 0.12955, 0.17207, 0.1398, 0.23465, 0.22854, 0.47618, 0.15854, 0.51898, 0.48689, 0.19791, 0.12129, 0.17895, 0.12909, 0.11032, 0.16893, 0.17886, 0.57573, 0.34835, 0.21508, 0.13216, 0.12909, 0.18534, 0.37601, 0.44093, 0.11032, 0.48372, 0.47589, 0.15676, 0.13968, 0.52414, 0.67729, 0.12186, 0.11032, 0.1848, 0.14905, 0.12955, 0.20555, 0.1398, 0.18575, 0.1398, 0.7068, 0.71238, 0.57177, 0.19844, 0.14044, 0.54238, 0.20437, 0.11032, 0.1802, 0.19094, 0.25758, 0.23326, 0.22618, 0.18591, 0.18325, 0.32251, 0.13376, 0.44057, 0.2263, 0.11032, 0.52473, 0.11941, 0.51035, 0.11032, 0.65703, 0.57725, 0.17895, 0.31757, 0.14136, 0.12909, 0.18752, 0.13091, 0.11941, 0.16701, 0.7068, 0.12909, 0.42611, 0.17145, 0.54103, 0.19611, 0.14197, 0.55708, 0.22193, 0.13818, 0.30492, 0.4303, 0.16701, 0.20112, 0.11032, 0.12755, 0.1398, 0.55674, 0.35209, 0.28637, 0.18525, 0.48691, 0.11203, 0.14791, 0.33357, 0.53023, 0.53443, 0.18687, 0.13442, 0.1317, 0.21907, 0.11032, 0.16701, 0.20047, 0.12925, 0.39712, 0.12955, 0.69509, 0.29426, 0.12955, 0.18434, 0.11032, 0.63527, 0.13603, 0.51542, 0.13603, 0.12955, 0.42865, 0.71096, 0.29829, 0.18547, 0.12164, 0.14201, 0.21039, 0.13126, 0.16477, 0.20449, 0.15325, 0.38969, 0.11215, 0.57168, 0.38278, 0.21324, 0.30622, 0.29655, 0.46898, 0.17162]\n",
      "prediction: [1.0, 1.0, 0.0, 0.0, 0.0, 0.0, 0.0, 0.0, 0.0, 0.0, 0.0, 0.0, 0.0, 0.0, 0.0, 0.0, 0.0, 0.0, 0.0, 0.0, 0.0, 0.0, 0.0, 0.0, 0.0, 0.0, 1.0, 0.0, 1.0, 0.0, 0.0, 1.0, 0.0, 0.0, 0.0, 0.0, 0.0, 0.0, 0.0, 0.0, 0.0, 0.0, 0.0, 0.0, 1.0, 0.0, 0.0, 1.0, 0.0, 0.0, 0.0, 0.0, 0.0, 0.0, 0.0, 0.0, 0.0, 0.0, 0.0, 1.0, 0.0, 0.0, 0.0, 0.0, 0.0, 0.0, 0.0, 0.0, 0.0, 0.0, 0.0, 0.0, 0.0, 0.0, 0.0, 1.0, 0.0, 0.0, 0.0, 0.0, 0.0, 0.0, 0.0, 0.0, 0.0, 1.0, 0.0, 0.0, 0.0, 0.0, 0.0, 0.0, 0.0, 0.0, 0.0, 0.0, 0.0, 0.0, 1.0, 0.0, 0.0, 0.0, 0.0, 0.0, 0.0, 1.0, 0.0, 0.0, 0.0, 0.0, 0.0, 0.0, 0.0, 1.0, 0.0, 0.0, 0.0, 0.0, 0.0, 0.0, 1.0, 0.0, 0.0, 0.0, 0.0, 0.0, 0.0, 0.0, 0.0, 0.0, 0.0, 0.0, 0.0, 0.0, 1.0, 0.0, 0.0, 0.0, 0.0, 0.0, 0.0, 0.0, 0.0, 1.0, 0.0, 0.0, 0.0, 0.0, 0.0, 0.0, 0.0, 1.0, 1.0, 0.0, 1.0, 0.0, 0.0, 0.0, 0.0, 0.0, 0.0, 0.0, 0.0, 0.0, 0.0, 0.0, 0.0, 0.0, 0.0, 0.0, 0.0, 0.0, 0.0, 0.0, 0.0, 0.0, 1.0, 0.0, 0.0, 0.0, 0.0, 0.0, 0.0, 0.0, 0.0, 0.0, 1.0, 0.0, 0.0, 0.0, 0.0, 0.0, 0.0, 0.0, 0.0, 1.0, 0.0, 0.0, 0.0, 0.0, 0.0, 0.0, 1.0, 0.0, 0.0, 0.0, 0.0, 1.0, 1.0, 1.0, 0.0, 0.0, 0.0, 0.0, 1.0, 0.0, 0.0, 0.0, 0.0, 0.0, 0.0, 1.0, 1.0, 0.0, 0.0, 0.0, 0.0, 0.0, 0.0, 0.0, 0.0, 0.0, 0.0, 0.0, 0.0, 0.0, 1.0, 1.0, 0.0, 0.0, 0.0, 0.0, 0.0, 1.0, 0.0, 0.0, 0.0, 0.0, 1.0, 0.0, 0.0, 0.0, 0.0, 0.0, 0.0, 1.0, 0.0, 0.0, 0.0, 0.0, 0.0, 0.0, 0.0, 0.0, 0.0, 0.0, 0.0, 0.0, 1.0, 1.0, 0.0, 1.0, 0.0, 0.0, 0.0, 1.0, 0.0, 0.0, 0.0, 1.0, 1.0, 1.0, 0.0, 0.0, 0.0, 1.0, 0.0, 0.0, 0.0, 1.0, 0.0, 0.0, 0.0, 0.0, 0.0, 0.0, 0.0, 0.0, 1.0, 0.0, 1.0, 0.0, 0.0, 0.0, 0.0, 1.0, 0.0, 0.0, 0.0, 1.0, 0.0, 0.0, 0.0, 0.0, 0.0, 0.0, 0.0, 0.0, 0.0, 0.0, 0.0, 0.0, 0.0, 0.0, 0.0, 0.0, 0.0, 1.0, 0.0, 0.0, 0.0, 0.0, 0.0, 0.0, 0.0, 0.0, 0.0, 0.0, 0.0, 0.0, 0.0, 0.0, 0.0, 1.0, 0.0, 0.0, 0.0, 0.0, 0.0, 0.0, 0.0, 0.0, 0.0, 0.0, 0.0, 0.0, 0.0, 0.0, 0.0, 0.0, 0.0, 0.0, 0.0, 0.0, 0.0, 0.0, 0.0, 0.0, 1.0, 1.0, 0.0, 0.0, 0.0, 0.0, 0.0, 0.0, 0.0, 0.0, 1.0, 0.0, 0.0, 0.0, 0.0, 0.0, 0.0, 0.0, 1.0, 0.0, 0.0, 0.0, 0.0, 0.0, 0.0, 0.0, 0.0, 0.0, 0.0, 0.0, 0.0, 0.0, 0.0, 0.0, 0.0, 0.0, 1.0, 0.0, 0.0, 0.0, 1.0, 0.0, 0.0, 0.0, 0.0, 0.0, 0.0, 0.0, 0.0, 0.0, 0.0, 0.0, 0.0, 1.0, 0.0, 1.0, 1.0, 0.0, 0.0, 0.0, 0.0, 0.0, 0.0, 0.0, 0.0, 0.0, 0.0, 0.0, 1.0, 0.0, 0.0, 0.0, 1.0, 0.0, 0.0, 0.0, 0.0, 0.0, 0.0, 0.0, 0.0, 0.0, 0.0, 0.0, 0.0, 0.0, 0.0, 0.0, 0.0, 0.0, 1.0, 0.0, 0.0, 0.0, 0.0, 1.0, 0.0, 0.0, 0.0, 0.0, 0.0, 0.0, 0.0, 1.0, 0.0, 0.0, 0.0, 0.0, 0.0, 0.0, 0.0, 1.0, 0.0, 0.0, 0.0, 0.0, 0.0, 0.0, 0.0, 0.0, 0.0, 0.0, 0.0, 0.0, 1.0, 0.0, 1.0, 1.0, 0.0, 0.0, 0.0, 0.0, 0.0, 1.0, 1.0, 0.0, 0.0, 0.0, 0.0, 0.0, 0.0, 0.0, 0.0, 1.0, 0.0, 0.0, 0.0, 0.0, 0.0, 0.0, 0.0, 0.0, 0.0, 0.0, 0.0, 0.0, 0.0, 0.0, 0.0, 0.0, 0.0, 0.0, 0.0, 0.0, 0.0, 0.0, 0.0, 0.0, 0.0, 1.0, 0.0, 0.0, 0.0, 0.0, 0.0, 0.0, 0.0, 1.0, 0.0, 0.0, 0.0, 0.0, 1.0, 0.0, 0.0, 0.0, 0.0, 0.0, 0.0, 1.0, 0.0, 0.0, 0.0, 0.0, 0.0, 1.0, 0.0, 1.0, 0.0, 0.0, 0.0, 0.0, 0.0, 0.0, 1.0, 0.0, 0.0, 0.0, 0.0, 0.0, 0.0, 0.0, 0.0, 0.0, 0.0, 0.0, 0.0, 0.0, 0.0, 0.0, 0.0, 0.0, 0.0, 1.0, 0.0, 0.0, 0.0, 0.0, 0.0, 0.0, 1.0, 0.0, 0.0, 0.0, 0.0, 0.0, 0.0, 0.0, 0.0, 0.0, 0.0, 0.0, 0.0, 0.0, 1.0, 0.0, 1.0, 0.0, 0.0, 0.0, 0.0, 0.0, 1.0, 0.0, 0.0, 0.0, 0.0, 0.0, 0.0, 0.0, 0.0, 0.0, 0.0, 1.0, 0.0, 0.0, 0.0, 0.0, 0.0, 0.0, 0.0, 0.0, 1.0, 0.0, 0.0, 0.0, 0.0, 0.0, 0.0, 0.0, 0.0, 0.0, 0.0, 1.0, 1.0, 0.0, 0.0, 0.0, 0.0, 0.0, 1.0, 1.0, 0.0, 0.0, 0.0, 0.0, 0.0, 0.0, 0.0, 1.0, 0.0, 0.0, 0.0, 0.0, 0.0, 0.0, 0.0, 0.0, 0.0, 0.0, 0.0, 0.0, 0.0, 0.0, 1.0, 0.0, 0.0, 0.0, 0.0, 0.0, 0.0, 0.0, 0.0, 0.0, 0.0, 0.0, 0.0, 0.0, 0.0, 0.0, 0.0, 0.0, 0.0, 0.0, 0.0, 0.0, 0.0, 0.0, 0.0, 0.0, 0.0, 0.0, 0.0, 1.0, 0.0, 0.0, 0.0, 0.0, 0.0, 0.0, 0.0, 0.0, 0.0, 0.0, 0.0, 0.0, 0.0, 1.0, 0.0, 0.0, 0.0, 0.0, 0.0, 1.0, 0.0, 0.0, 0.0, 0.0, 0.0, 0.0, 0.0, 0.0, 0.0, 0.0, 0.0, 0.0, 0.0, 0.0, 0.0, 0.0, 0.0, 0.0, 1.0, 0.0, 0.0, 0.0, 0.0, 0.0, 0.0, 0.0, 0.0, 0.0, 0.0, 1.0, 0.0, 0.0, 0.0, 0.0, 0.0, 0.0, 1.0, 0.0, 0.0, 0.0, 0.0, 0.0, 0.0, 0.0, 0.0, 0.0, 0.0, 0.0, 0.0, 0.0, 0.0, 0.0, 0.0, 0.0, 0.0, 0.0, 0.0, 0.0, 0.0, 0.0, 0.0, 1.0, 0.0, 0.0, 1.0, 0.0, 0.0, 0.0, 0.0, 0.0, 0.0, 0.0, 0.0, 0.0, 0.0, 0.0, 0.0, 0.0, 0.0, 0.0, 0.0, 1.0, 0.0, 1.0, 0.0, 0.0, 0.0, 0.0, 0.0, 1.0, 0.0, 0.0, 0.0, 1.0, 0.0, 0.0, 0.0, 0.0, 0.0, 0.0, 0.0, 0.0, 1.0, 0.0, 0.0, 0.0, 1.0, 0.0, 0.0, 0.0, 0.0, 0.0, 0.0, 0.0, 0.0, 0.0, 0.0, 0.0, 0.0, 1.0, 0.0, 0.0, 0.0, 0.0, 0.0, 0.0, 0.0, 0.0, 0.0, 0.0, 0.0, 1.0, 0.0, 0.0, 0.0, 1.0, 0.0, 0.0, 0.0, 0.0, 0.0, 1.0, 0.0, 0.0, 0.0, 1.0, 0.0, 0.0, 0.0, 0.0, 0.0, 0.0, 0.0, 0.0, 0.0, 0.0, 0.0, 0.0, 0.0, 0.0, 1.0, 0.0, 0.0, 1.0, 0.0, 0.0, 0.0, 0.0, 0.0, 0.0, 0.0, 0.0, 0.0, 0.0, 0.0, 1.0, 0.0, 0.0, 0.0, 0.0, 1.0, 0.0, 0.0, 1.0, 0.0, 0.0, 0.0, 0.0, 0.0, 1.0, 0.0, 0.0, 0.0, 1.0, 0.0, 1.0, 0.0, 0.0, 0.0, 0.0, 0.0, 0.0, 0.0, 1.0, 0.0, 0.0, 0.0, 0.0, 0.0, 0.0, 0.0, 0.0, 0.0, 0.0, 1.0, 1.0, 0.0, 0.0, 0.0, 0.0, 0.0, 0.0, 0.0, 0.0, 0.0, 0.0, 1.0, 1.0, 0.0, 0.0, 0.0, 0.0, 0.0, 0.0, 0.0, 0.0, 0.0, 0.0, 0.0, 0.0, 0.0, 0.0, 0.0, 1.0, 0.0, 0.0, 0.0, 0.0, 0.0, 0.0, 0.0, 1.0, 0.0, 0.0, 1.0, 0.0, 0.0, 0.0, 0.0, 0.0, 0.0, 0.0, 0.0, 0.0, 0.0, 0.0, 0.0, 0.0, 0.0, 0.0, 0.0, 0.0, 0.0, 0.0, 0.0, 1.0, 0.0, 0.0, 0.0, 0.0, 0.0, 0.0, 1.0, 0.0, 0.0, 0.0, 0.0, 0.0, 0.0, 0.0, 0.0, 0.0, 0.0, 0.0, 0.0, 0.0, 1.0, 0.0, 0.0, 0.0, 0.0, 0.0, 0.0, 0.0, 1.0, 0.0, 0.0, 0.0, 1.0, 0.0, 0.0, 0.0, 0.0, 0.0, 0.0, 0.0, 0.0, 0.0, 0.0, 1.0, 0.0, 0.0, 0.0, 0.0, 0.0, 0.0, 0.0, 0.0, 0.0, 0.0, 0.0, 0.0, 0.0, 0.0, 0.0, 1.0, 0.0, 0.0, 0.0, 0.0, 0.0, 0.0, 0.0, 1.0, 0.0, 0.0, 1.0, 1.0, 0.0, 1.0, 0.0, 0.0, 0.0, 0.0, 0.0, 0.0, 0.0, 0.0, 0.0, 0.0, 0.0, 1.0, 0.0, 0.0, 0.0, 0.0, 1.0, 0.0, 0.0, 0.0, 0.0, 0.0, 0.0, 0.0, 0.0, 0.0, 0.0, 0.0, 1.0, 0.0, 0.0, 0.0, 0.0, 1.0, 0.0, 0.0, 0.0, 0.0, 0.0, 0.0, 0.0, 0.0, 1.0, 0.0, 0.0, 0.0, 1.0, 0.0, 0.0, 0.0, 0.0, 0.0, 1.0, 0.0, 0.0, 0.0, 0.0, 0.0, 0.0, 0.0, 0.0, 0.0, 0.0, 0.0, 0.0, 0.0, 0.0, 0.0, 0.0, 0.0, 0.0, 1.0, 0.0, 0.0, 0.0, 0.0, 0.0, 0.0, 0.0, 0.0, 1.0, 0.0, 0.0, 0.0, 0.0, 0.0, 0.0, 0.0, 0.0, 0.0, 0.0, 0.0, 0.0, 0.0, 0.0, 0.0, 0.0, 0.0, 0.0, 0.0, 0.0, 1.0, 0.0, 0.0, 1.0, 0.0, 0.0, 0.0, 0.0, 1.0, 1.0, 0.0, 0.0, 1.0, 0.0, 0.0, 0.0, 1.0, 0.0, 0.0, 0.0, 0.0, 0.0, 0.0, 0.0, 0.0, 0.0, 0.0, 0.0, 0.0, 0.0, 0.0, 0.0, 0.0, 1.0, 0.0, 1.0, 0.0, 0.0, 0.0, 0.0, 0.0, 0.0, 1.0, 0.0, 1.0, 1.0, 0.0, 0.0, 0.0, 0.0, 0.0, 0.0, 0.0, 1.0, 0.0, 0.0, 0.0, 0.0, 0.0, 0.0, 0.0, 0.0, 0.0, 0.0, 0.0, 0.0, 0.0, 0.0, 0.0, 0.0, 0.0, 0.0, 0.0, 0.0, 0.0, 0.0, 0.0, 0.0, 1.0, 1.0, 0.0, 0.0, 0.0, 1.0, 0.0, 0.0, 0.0, 0.0, 0.0, 0.0, 0.0, 0.0, 0.0, 0.0, 0.0, 0.0, 0.0, 0.0, 0.0, 0.0, 0.0, 0.0, 0.0, 0.0, 0.0, 0.0, 0.0, 0.0, 0.0, 0.0, 0.0, 1.0, 0.0, 0.0, 0.0, 0.0, 0.0, 0.0, 0.0, 0.0, 0.0, 0.0, 0.0, 0.0, 0.0, 0.0, 0.0, 0.0, 0.0, 0.0, 0.0, 0.0, 1.0, 0.0, 0.0, 0.0, 0.0, 0.0, 0.0, 0.0, 0.0, 1.0, 0.0, 0.0, 0.0, 0.0, 0.0, 0.0, 0.0, 0.0, 0.0, 0.0, 0.0, 0.0, 1.0, 1.0, 0.0, 0.0, 0.0, 0.0, 0.0, 0.0, 0.0, 0.0, 0.0, 1.0, 1.0, 1.0, 0.0, 0.0, 1.0, 0.0, 0.0, 0.0, 0.0, 0.0, 0.0, 0.0, 0.0, 0.0, 0.0, 0.0, 0.0, 0.0, 0.0, 1.0, 0.0, 1.0, 0.0, 1.0, 1.0, 0.0, 0.0, 0.0, 0.0, 0.0, 0.0, 0.0, 0.0, 1.0, 0.0, 0.0, 0.0, 1.0, 0.0, 0.0, 1.0, 0.0, 0.0, 0.0, 0.0, 0.0, 0.0, 0.0, 0.0, 0.0, 1.0, 0.0, 0.0, 0.0, 0.0, 0.0, 0.0, 0.0, 1.0, 1.0, 0.0, 0.0, 0.0, 0.0, 0.0, 0.0, 0.0, 0.0, 0.0, 0.0, 1.0, 0.0, 0.0, 0.0, 0.0, 1.0, 0.0, 1.0, 0.0, 0.0, 0.0, 1.0, 0.0, 0.0, 0.0, 0.0, 0.0, 0.0, 0.0, 0.0, 0.0, 0.0, 0.0, 1.0, 0.0, 0.0, 0.0, 0.0, 0.0, 0.0]\n"
     ]
    },
    {
     "name": "stderr",
     "output_type": "stream",
     "text": [
      "                                                                                \r"
     ]
    }
   ],
   "source": [
    "# 14d. Persist metrics in full to GCS\n",
    "# (The version persisted to BQ does not have True, Score and Prediction needed for Confusion Matrix\n",
    "# This version below has the True, Score and Prediction additionally) \n",
    "\n",
    "# 14d.1. Capture\n",
    "modelMetricsWithTSP = fnParseModelMetrics(predictionsDF, \"label\", \"test\", False)\n",
    "\n",
    "# 14d.2. Persist\n",
    "blobName = f\"{modelBaseNm}/{operation}/{modelVersion}/full/metrics.json\"\n",
    "print(blobName)\n",
    "common_utils.fnPersistMetrics(urlparse(metricsBucketUri).netloc, modelMetricsWithTSP, blobName)\n",
    "\n",
    "# 14d.3. Print\n",
    "for m, v in modelMetricsWithTSP.items():\n",
    "    print(f'{m}: {v}')\n",
    "    "
   ]
  },
  {
   "cell_type": "code",
   "execution_count": 33,
   "metadata": {
    "tags": []
   },
   "outputs": [
    {
     "name": "stderr",
     "output_type": "stream",
     "text": [
      "                                                                                \r"
     ]
    },
    {
     "name": "stdout",
     "output_type": "stream",
     "text": [
      "+--------------+------------+-----------+-------------+---------------------+---------+\n",
      "|     metric_nm|metric_value|pipeline_id|model_version|pipeline_execution_dt|operation|\n",
      "+--------------+------------+-----------+-------------+---------------------+---------+\n",
      "| test_area_roc|     0.85105|       4244|         4244|       20240603065934| training|\n",
      "| test_area_prc|     0.66582|       4244|         4244|       20240603065934| training|\n",
      "| test_accuracy|     0.81228|       4244|         4244|       20240603065934| training|\n",
      "|       test_f1|     0.78894|       4244|         4244|       20240603065934| training|\n",
      "|test_precision|     0.80211|       4244|         4244|       20240603065934| training|\n",
      "|   test_recall|     0.81228|       4244|         4244|       20240603065934| training|\n",
      "+--------------+------------+-----------+-------------+---------------------+---------+\n",
      "\n"
     ]
    },
    {
     "name": "stderr",
     "output_type": "stream",
     "text": [
      "                                                                                \r"
     ]
    }
   ],
   "source": [
    "# 14e. Persist metrics subset to BigQuery\n",
    "metricsDF = spark.createDataFrame(modelMetrics.items(), [\"metric_nm\", \"metric_value\"]) \n",
    "metricsWithPipelineIdDF = metricsDF.withColumn(\"pipeline_id\", lit(pipelineID).cast(\"string\")) \\\n",
    "                                   .withColumn(\"model_version\", lit(pipelineID).cast(\"string\")) \\\n",
    "                                   .withColumn(\"pipeline_execution_dt\", lit(pipelineExecutionDt)) \\\n",
    "                                   .withColumn(\"operation\", lit(operation)) \n",
    "\n",
    "metricsWithPipelineIdDF.show()\n",
    "\n",
    "metricsWithPipelineIdDF.write.format('bigquery') \\\n",
    ".mode(\"overwrite\")\\\n",
    ".option('table', bigQueryModelMetricsTableFQN) \\\n",
    ".save()\n"
   ]
  }
 ],
 "metadata": {
  "environment": {
   "kernel": "conda-env-tensorflow-tensorflow",
   "name": "workbench-notebooks.m121",
   "type": "gcloud",
   "uri": "us-docker.pkg.dev/deeplearning-platform-release/gcr.io/workbench-notebooks:m121"
  },
  "kernelspec": {
   "display_name": "TensorFlow 2-11 (Local)",
   "language": "python",
   "name": "conda-env-tensorflow-tensorflow"
  },
  "language_info": {
   "codemirror_mode": {
    "name": "ipython",
    "version": 3
   },
   "file_extension": ".py",
   "mimetype": "text/x-python",
   "name": "python",
   "nbconvert_exporter": "python",
   "pygments_lexer": "ipython3",
   "version": "3.10.14"
  },
  "serverless_spark": "{\"name\":\"projects/s8s-spark-ml-mlops/locations/us-central1/sessions/agni-6\",\"uuid\":\"35fda7e3-be7b-4913-99c5-83e97b677386\",\"createTime\":\"2022-08-04T02:37:17.836903Z\",\"jupyterSession\":{},\"spark\":{},\"runtimeInfo\":{},\"state\":\"ACTIVE\",\"stateTime\":\"2022-08-04T02:38:37.084371Z\",\"creator\":\"s8s-lab-sa@s8s-spark-ml-mlops.iam.gserviceaccount.com\",\"runtimeConfig\":{\"containerImage\":\"gcr.io/s8s-spark-ml-mlops/dataproc_serverless_custom_runtime:1.0.3\",\"properties\":{\"spark:spark.executor.instances\":\"2\",\"spark:spark.driver.cores\":\"4\",\"spark:spark.executor.cores\":\"4\",\"spark:spark.eventLog.dir\":\"gs://s8s-sphs-974925525028/35fda7e3-be7b-4913-99c5-83e97b677386/spark-job-history\"}},\"environmentConfig\":{\"executionConfig\":{\"serviceAccount\":\"s8s-lab-sa@s8s-spark-ml-mlops.iam.gserviceaccount.com\",\"subnetworkUri\":\"https://www.googleapis.com/compute/v1/projects/s8s-spark-ml-mlops/regions/us-central1/subnetworks/spark-snet\"},\"peripheralsConfig\":{\"sparkHistoryServerConfig\":{\"dataprocCluster\":\"projects/s8s-spark-ml-mlops/regions/us-central1/clusters/s8s-sphs-974925525028\"}}},\"stateHistory\":[{\"state\":\"CREATING\",\"stateStartTime\":\"2022-08-04T02:37:17.836903Z\"}]}",
  "serverless_spark_kernel_name": "remote-bc514a4a91cec988ad3c15a7-pyspark"
 },
 "nbformat": 4,
 "nbformat_minor": 4
}
